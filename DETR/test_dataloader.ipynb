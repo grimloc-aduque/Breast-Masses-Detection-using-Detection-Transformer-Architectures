{
 "cells": [
  {
   "cell_type": "code",
   "execution_count": 1,
   "metadata": {},
   "outputs": [],
   "source": [
    "from detr_file_manager import FileManager\n",
    "from detr_data_source import DataSource\n",
    "from detr_factory import DETRFactory\n",
    "from detr_config import Config\n",
    "from detr_file_manager import FileManager\n",
    "from detr_model_evaluator import ModelEvaluator\n",
    "from detr_model_loader import ModelLoader\n",
    "from sklearn.model_selection import KFold"
   ]
  },
  {
   "cell_type": "code",
   "execution_count": 2,
   "metadata": {},
   "outputs": [
    {
     "name": "stderr",
     "output_type": "stream",
     "text": [
      "The `max_size` parameter is deprecated and will be removed in v4.26. Please specify in `size['longest_edge'] instead`.\n"
     ]
    }
   ],
   "source": [
    "Config.LOGS_DIR = '../Otros/DETR_logs_data_augmentation/'\n",
    "hyperparameters = ('D-DETR', 100, 6)\n",
    "detr_factory = DETRFactory(*hyperparameters)\n",
    "file_manager = FileManager(detr_factory)\n",
    "data_source = DataSource(detr_factory, file_manager)\n",
    "model_loader = ModelLoader(detr_factory, file_manager)"
   ]
  },
  {
   "cell_type": "code",
   "execution_count": 3,
   "metadata": {},
   "outputs": [
    {
     "name": "stdout",
     "output_type": "stream",
     "text": [
      "Loading Annotations from:  InBreast_Coco\\train\\_annotations.coco.json\n",
      "loading annotations into memory...\n",
      "Done (t=0.00s)\n",
      "creating index...\n",
      "index created!\n",
      "Loading Annotations from:  InBreast_Coco\\train\\_annotations.coco.json\n",
      "loading annotations into memory...\n",
      "Done (t=0.00s)\n",
      "creating index...\n",
      "index created!\n"
     ]
    }
   ],
   "source": [
    "train_dataset = data_source.get_train_dataset()\n",
    "kfold = KFold(n_splits=Config.FOLDS, shuffle=True, random_state=123456)\n",
    "kfold_split = kfold.split(train_dataset.ids)\n",
    "train_ids, valid_ids = kfold_split.__next__()\n",
    "valid_dataset = data_source.get_valid_dataset()\n",
    "train_loader = data_source.get_dataloader(train_dataset, train_ids)\n",
    "valid_loader = data_source.get_dataloader(valid_dataset, valid_ids)\n"
   ]
  },
  {
   "cell_type": "code",
   "execution_count": 4,
   "metadata": {},
   "outputs": [
    {
     "name": "stdout",
     "output_type": "stream",
     "text": [
      "Loading Model:  ../Otros/DETR_logs_data_augmentation/model=D-DETR_queries=100_layers=6\\test\\checkpoints\\epoch=96-step=582.ckpt\n"
     ]
    }
   ],
   "source": [
    "file_manager.set_testing_setup()\n",
    "model = model_loader.load_best_model()\n",
    "model_evaluator = ModelEvaluator(model, detr_factory)\n"
   ]
  },
  {
   "cell_type": "code",
   "execution_count": 7,
   "metadata": {},
   "outputs": [],
   "source": [
    "# batch = next(iter(valid_loader))\n",
    "# predictions = model_evaluator.generate_predictions(batch, threshold=0.2)\n",
    "# predictions = model_evaluator._prepare_for_coco_detection(predictions)"
   ]
  },
  {
   "cell_type": "code",
   "execution_count": 5,
   "metadata": {},
   "outputs": [],
   "source": [
    "import copy\n",
    "coco_gt = copy.deepcopy(train_dataset.coco)\n",
    "new_imgs = {k:v for k,v in coco_gt.imgs.items() if k in valid_ids}\n",
    "coco_gt.imgs = new_imgs"
   ]
  },
  {
   "cell_type": "code",
   "execution_count": 6,
   "metadata": {},
   "outputs": [
    {
     "name": "stdout",
     "output_type": "stream",
     "text": [
      "Evaluating on threshold:  0.001\n",
      "Accumulating evaluation results...\n",
      "DONE (t=0.03s).\n"
     ]
    },
    {
     "data": {
      "text/plain": [
       "{'Average Precision  (AP) @[ IoU=0.50:0.95 | area=   all | maxDets=100 ]': 0.612,\n",
       " 'Average Precision  (AP) @[ IoU=0.50      | area=   all | maxDets=100 ]': 0.852,\n",
       " 'Average Precision  (AP) @[ IoU=0.75      | area=   all | maxDets=100 ]': 0.724,\n",
       " 'Average Precision  (AP) @[ IoU=0.50:0.95 | area= small | maxDets=100 ]': 0.451,\n",
       " 'Average Precision  (AP) @[ IoU=0.50:0.95 | area=medium | maxDets=100 ]': 0.61,\n",
       " 'Average Precision  (AP) @[ IoU=0.50:0.95 | area= large | maxDets=100 ]': 0.885,\n",
       " 'Average Recall     (AR) @[ IoU=0.50:0.95 | area=   all | maxDets=  1 ]': 0.6,\n",
       " 'Average Recall     (AR) @[ IoU=0.50:0.95 | area=   all | maxDets= 10 ]': 0.755,\n",
       " 'Average Recall     (AR) @[ IoU=0.50:0.95 | area=   all | maxDets=100 ]': 0.755,\n",
       " 'Average Recall     (AR) @[ IoU=0.50:0.95 | area= small | maxDets=100 ]': 0.6,\n",
       " 'Average Recall     (AR) @[ IoU=0.50:0.95 | area=medium | maxDets=100 ]': 0.717,\n",
       " 'Average Recall     (AR) @[ IoU=0.50:0.95 | area= large | maxDets=100 ]': 0.933}"
      ]
     },
     "execution_count": 6,
     "metadata": {},
     "output_type": "execute_result"
    }
   ],
   "source": [
    "model_evaluator.evaluate(coco_gt, valid_loader, threshold=0.001)"
   ]
  },
  {
   "cell_type": "code",
   "execution_count": 9,
   "metadata": {},
   "outputs": [
    {
     "name": "stdout",
     "output_type": "stream",
     "text": [
      "Evaluating on threshold:  0.001\n",
      "Accumulating evaluation results...\n",
      "DONE (t=0.01s).\n"
     ]
    },
    {
     "data": {
      "text/plain": [
       "{'Average Precision  (AP) @[ IoU=0.50:0.95 | area=   all | maxDets=100 ]': 0.073,\n",
       " 'Average Precision  (AP) @[ IoU=0.50      | area=   all | maxDets=100 ]': 0.097,\n",
       " 'Average Precision  (AP) @[ IoU=0.75      | area=   all | maxDets=100 ]': 0.091,\n",
       " 'Average Precision  (AP) @[ IoU=0.50:0.95 | area= small | maxDets=100 ]': 0.151,\n",
       " 'Average Precision  (AP) @[ IoU=0.50:0.95 | area=medium | maxDets=100 ]': 0.02,\n",
       " 'Average Precision  (AP) @[ IoU=0.50:0.95 | area= large | maxDets=100 ]': 0.303,\n",
       " 'Average Recall     (AR) @[ IoU=0.50:0.95 | area=   all | maxDets=  1 ]': 0.2,\n",
       " 'Average Recall     (AR) @[ IoU=0.50:0.95 | area=   all | maxDets= 10 ]': 0.227,\n",
       " 'Average Recall     (AR) @[ IoU=0.50:0.95 | area=   all | maxDets=100 ]': 0.227,\n",
       " 'Average Recall     (AR) @[ IoU=0.50:0.95 | area= small | maxDets=100 ]': 0.3,\n",
       " 'Average Recall     (AR) @[ IoU=0.50:0.95 | area=medium | maxDets=100 ]': 0.167,\n",
       " 'Average Recall     (AR) @[ IoU=0.50:0.95 | area= large | maxDets=100 ]': 0.3}"
      ]
     },
     "execution_count": 9,
     "metadata": {},
     "output_type": "execute_result"
    }
   ],
   "source": [
    "# model_evaluator.evaluate(coco_gt, valid_loader, threshold=0.001)"
   ]
  },
  {
   "cell_type": "code",
   "execution_count": 7,
   "metadata": {},
   "outputs": [],
   "source": [
    "valid_dataset = copy.deepcopy(train_dataset)\n",
    "valid_dataset.coco.imgs = {k:v for k,v in valid_dataset.coco.imgs.items() if k in valid_ids}\n",
    "coco_gt = valid_dataset.coco"
   ]
  },
  {
   "cell_type": "code",
   "execution_count": 8,
   "metadata": {},
   "outputs": [
    {
     "name": "stdout",
     "output_type": "stream",
     "text": [
      "Evaluating on threshold:  0.001\n",
      "Accumulating evaluation results...\n",
      "DONE (t=0.02s).\n"
     ]
    },
    {
     "data": {
      "text/plain": [
       "{'Average Precision  (AP) @[ IoU=0.50:0.95 | area=   all | maxDets=100 ]': 0.612,\n",
       " 'Average Precision  (AP) @[ IoU=0.50      | area=   all | maxDets=100 ]': 0.852,\n",
       " 'Average Precision  (AP) @[ IoU=0.75      | area=   all | maxDets=100 ]': 0.724,\n",
       " 'Average Precision  (AP) @[ IoU=0.50:0.95 | area= small | maxDets=100 ]': 0.451,\n",
       " 'Average Precision  (AP) @[ IoU=0.50:0.95 | area=medium | maxDets=100 ]': 0.61,\n",
       " 'Average Precision  (AP) @[ IoU=0.50:0.95 | area= large | maxDets=100 ]': 0.885,\n",
       " 'Average Recall     (AR) @[ IoU=0.50:0.95 | area=   all | maxDets=  1 ]': 0.6,\n",
       " 'Average Recall     (AR) @[ IoU=0.50:0.95 | area=   all | maxDets= 10 ]': 0.755,\n",
       " 'Average Recall     (AR) @[ IoU=0.50:0.95 | area=   all | maxDets=100 ]': 0.755,\n",
       " 'Average Recall     (AR) @[ IoU=0.50:0.95 | area= small | maxDets=100 ]': 0.6,\n",
       " 'Average Recall     (AR) @[ IoU=0.50:0.95 | area=medium | maxDets=100 ]': 0.717,\n",
       " 'Average Recall     (AR) @[ IoU=0.50:0.95 | area= large | maxDets=100 ]': 0.933}"
      ]
     },
     "execution_count": 8,
     "metadata": {},
     "output_type": "execute_result"
    }
   ],
   "source": [
    "model_evaluator.evaluate(coco_gt, valid_loader, threshold=0.001)"
   ]
  },
  {
   "cell_type": "code",
   "execution_count": null,
   "metadata": {},
   "outputs": [],
   "source": []
  }
 ],
 "metadata": {
  "kernelspec": {
   "display_name": "test-env",
   "language": "python",
   "name": "python3"
  },
  "language_info": {
   "codemirror_mode": {
    "name": "ipython",
    "version": 3
   },
   "file_extension": ".py",
   "mimetype": "text/x-python",
   "name": "python",
   "nbconvert_exporter": "python",
   "pygments_lexer": "ipython3",
   "version": "3.11.4"
  },
  "orig_nbformat": 4
 },
 "nbformat": 4,
 "nbformat_minor": 2
}
