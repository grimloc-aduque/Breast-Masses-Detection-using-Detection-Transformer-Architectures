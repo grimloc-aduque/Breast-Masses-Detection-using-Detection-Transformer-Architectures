{
 "cells": [
  {
   "cell_type": "code",
   "execution_count": 1,
   "metadata": {},
   "outputs": [],
   "source": [
    "import os\n",
    "import shutil\n",
    "\n",
    "import pandas as pd\n",
    "from detr_config import Config\n",
    "from detr_dataset import get_dataset, get_dataloader\n",
    "from detr_trainer import get_trainer\n",
    "from detr_evaluation import load_best_model, get_metrics\n",
    "from detr_model import DETRModel\n",
    "from transformers import (DeformableDetrConfig,\n",
    "                          DeformableDetrForObjectDetection,\n",
    "                          DeformableDetrImageProcessor, DetrConfig,\n",
    "                          DetrForObjectDetection, DetrImageProcessor)"
   ]
  },
  {
   "cell_type": "code",
   "execution_count": 28,
   "metadata": {},
   "outputs": [],
   "source": [
    "hyperparameters = ('DETR', 'resnet50', 100, 4)\n",
    "\n",
    "architecture, backbone, num_queries, d_model, transformer_layers = hyperparameters\n",
    "\n",
    "config = DetrConfig.from_pretrained(\n",
    "    \"facebook/detr-resnet-50\",\n",
    "    num_labels = Config.NUM_CLASSES,\n",
    "    id2label = {0:'Mass'}, \n",
    "    label2id = {'Mass': 0},\n",
    "    num_queries = num_queries,\n",
    "    d_model = 256,\n",
    "    encoder_layers = transformer_layers,\n",
    "    decoder_layers = transformer_layers,\n",
    "    backbone=backbone\n",
    ")"
   ]
  },
  {
   "cell_type": "code",
   "execution_count": 29,
   "metadata": {},
   "outputs": [
    {
     "name": "stderr",
     "output_type": "stream",
     "text": [
      "Some weights of the model checkpoint at facebook/detr-resnet-50 were not used when initializing DetrForObjectDetection: ['model.encoder.layers.5.self_attn.k_proj.weight', 'model.encoder.layers.4.self_attn.k_proj.weight', 'model.encoder.layers.5.self_attn_layer_norm.weight', 'model.decoder.layers.5.encoder_attn.v_proj.weight', 'model.decoder.layers.5.final_layer_norm.weight', 'model.decoder.layers.5.encoder_attn.v_proj.bias', 'model.encoder.layers.5.fc2.weight', 'model.encoder.layers.5.self_attn.v_proj.bias', 'model.decoder.layers.5.self_attn.out_proj.bias', 'model.decoder.layers.5.self_attn.v_proj.bias', 'model.decoder.layers.4.encoder_attn.out_proj.bias', 'model.encoder.layers.4.self_attn.q_proj.weight', 'model.decoder.layers.4.fc2.bias', 'model.encoder.layers.4.self_attn.k_proj.bias', 'model.encoder.layers.5.fc1.bias', 'model.backbone.conv_encoder.model.layer3.0.downsample.1.num_batches_tracked', 'model.decoder.layers.5.self_attn_layer_norm.weight', 'model.encoder.layers.5.final_layer_norm.bias', 'model.decoder.layers.5.fc1.bias', 'model.encoder.layers.5.self_attn_layer_norm.bias', 'model.decoder.layers.5.self_attn.q_proj.bias', 'model.decoder.layers.5.fc2.bias', 'model.decoder.layers.4.encoder_attn.q_proj.weight', 'model.decoder.layers.5.fc2.weight', 'model.encoder.layers.5.self_attn.q_proj.weight', 'model.decoder.layers.4.encoder_attn.k_proj.weight', 'model.decoder.layers.4.self_attn.q_proj.bias', 'model.decoder.layers.4.encoder_attn.out_proj.weight', 'model.backbone.conv_encoder.model.layer4.0.downsample.1.num_batches_tracked', 'model.decoder.layers.5.fc1.weight', 'model.decoder.layers.4.self_attn.q_proj.weight', 'model.encoder.layers.5.self_attn.v_proj.weight', 'model.encoder.layers.4.fc1.weight', 'model.decoder.layers.4.self_attn.out_proj.weight', 'model.decoder.layers.5.encoder_attn_layer_norm.weight', 'model.decoder.layers.4.encoder_attn_layer_norm.bias', 'model.encoder.layers.5.self_attn.out_proj.bias', 'model.decoder.layers.4.self_attn_layer_norm.weight', 'model.decoder.layers.4.self_attn.k_proj.bias', 'model.encoder.layers.4.self_attn.out_proj.weight', 'model.encoder.layers.4.self_attn.v_proj.weight', 'model.decoder.layers.4.final_layer_norm.bias', 'model.encoder.layers.4.self_attn.v_proj.bias', 'model.decoder.layers.4.final_layer_norm.weight', 'model.encoder.layers.5.fc1.weight', 'model.decoder.layers.4.self_attn.out_proj.bias', 'model.encoder.layers.4.fc1.bias', 'model.decoder.layers.4.self_attn.v_proj.bias', 'model.decoder.layers.5.encoder_attn.k_proj.weight', 'model.decoder.layers.4.self_attn.v_proj.weight', 'model.decoder.layers.5.self_attn.k_proj.bias', 'model.encoder.layers.5.final_layer_norm.weight', 'model.decoder.layers.4.encoder_attn.v_proj.weight', 'model.encoder.layers.4.fc2.bias', 'model.decoder.layers.4.encoder_attn_layer_norm.weight', 'model.decoder.layers.4.self_attn_layer_norm.bias', 'model.decoder.layers.5.encoder_attn.out_proj.bias', 'model.decoder.layers.4.self_attn.k_proj.weight', 'model.decoder.layers.5.self_attn_layer_norm.bias', 'model.encoder.layers.4.self_attn.out_proj.bias', 'model.encoder.layers.5.fc2.bias', 'model.decoder.layers.4.fc2.weight', 'model.decoder.layers.5.encoder_attn_layer_norm.bias', 'model.encoder.layers.5.self_attn.out_proj.weight', 'model.encoder.layers.4.self_attn.q_proj.bias', 'model.decoder.layers.4.fc1.weight', 'model.decoder.layers.5.self_attn.q_proj.weight', 'model.decoder.layers.4.encoder_attn.k_proj.bias', 'model.encoder.layers.4.final_layer_norm.bias', 'model.encoder.layers.4.fc2.weight', 'model.decoder.layers.5.encoder_attn.q_proj.weight', 'model.decoder.layers.4.fc1.bias', 'model.decoder.layers.5.encoder_attn.out_proj.weight', 'model.backbone.conv_encoder.model.layer2.0.downsample.1.num_batches_tracked', 'model.encoder.layers.4.self_attn_layer_norm.weight', 'model.backbone.conv_encoder.model.layer1.0.downsample.1.num_batches_tracked', 'model.decoder.layers.5.final_layer_norm.bias', 'model.decoder.layers.5.self_attn.v_proj.weight', 'model.decoder.layers.5.self_attn.out_proj.weight', 'model.decoder.layers.4.encoder_attn.v_proj.bias', 'model.encoder.layers.4.self_attn_layer_norm.bias', 'model.decoder.layers.5.encoder_attn.k_proj.bias', 'model.encoder.layers.4.final_layer_norm.weight', 'model.decoder.layers.4.encoder_attn.q_proj.bias', 'model.decoder.layers.5.self_attn.k_proj.weight', 'model.decoder.layers.5.encoder_attn.q_proj.bias', 'model.encoder.layers.5.self_attn.q_proj.bias', 'model.encoder.layers.5.self_attn.k_proj.bias']\n",
      "- This IS expected if you are initializing DetrForObjectDetection from the checkpoint of a model trained on another task or with another architecture (e.g. initializing a BertForSequenceClassification model from a BertForPreTraining model).\n",
      "- This IS NOT expected if you are initializing DetrForObjectDetection from the checkpoint of a model that you expect to be exactly identical (initializing a BertForSequenceClassification model from a BertForSequenceClassification model).\n",
      "Some weights of DetrForObjectDetection were not initialized from the model checkpoint at facebook/detr-resnet-50 and are newly initialized because the shapes did not match:\n",
      "- class_labels_classifier.weight: found shape torch.Size([92, 256]) in the checkpoint and torch.Size([2, 256]) in the model instantiated\n",
      "- class_labels_classifier.bias: found shape torch.Size([92]) in the checkpoint and torch.Size([2]) in the model instantiated\n",
      "You should probably TRAIN this model on a down-stream task to be able to use it for predictions and inference.\n"
     ]
    }
   ],
   "source": [
    "model = DetrForObjectDetection.from_pretrained(\n",
    "   \"facebook/detr-resnet-50\",\n",
    "   config=config,\n",
    "   ignore_mismatched_sizes=True\n",
    ")"
   ]
  },
  {
   "cell_type": "code",
   "execution_count": null,
   "metadata": {},
   "outputs": [],
   "source": []
  }
 ],
 "metadata": {
  "kernelspec": {
   "display_name": "detr-env",
   "language": "python",
   "name": "python3"
  },
  "language_info": {
   "codemirror_mode": {
    "name": "ipython",
    "version": 3
   },
   "file_extension": ".py",
   "mimetype": "text/x-python",
   "name": "python",
   "nbconvert_exporter": "python",
   "pygments_lexer": "ipython3",
   "version": "3.11.4"
  },
  "orig_nbformat": 4
 },
 "nbformat": 4,
 "nbformat_minor": 2
}
