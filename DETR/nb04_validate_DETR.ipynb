{
 "cells": [
  {
   "cell_type": "code",
   "execution_count": 1,
   "metadata": {},
   "outputs": [
    {
     "name": "stderr",
     "output_type": "stream",
     "text": [
      "The `max_size` parameter is deprecated and will be removed in v4.26. Please specify in `size['longest_edge'] instead`.\n"
     ]
    }
   ],
   "source": [
    "import itertools\n",
    "import os\n",
    "\n",
    "from sklearn.model_selection import KFold\n",
    "from torch.utils.data import DataLoader\n",
    "import torch\n",
    "\n",
    "from detr_config import Config\n",
    "from detr_dataset import collate_fn, get_train_dataset, get_test_dataset, detr_processor\n",
    "from detr_model import DETRModel\n",
    "\n",
    "from coco_eval import CocoEvaluator"
   ]
  },
  {
   "cell_type": "code",
   "execution_count": 2,
   "metadata": {},
   "outputs": [
    {
     "name": "stdout",
     "output_type": "stream",
     "text": [
      "loading annotations into memory...\n",
      "Done (t=0.01s)\n",
      "creating index...\n",
      "index created!\n"
     ]
    }
   ],
   "source": [
    "# Dataset\n",
    "\n",
    "train_valid_dataset = get_train_dataset()"
   ]
  },
  {
   "cell_type": "code",
   "execution_count": 3,
   "metadata": {},
   "outputs": [],
   "source": [
    "def convert_to_xywh(boxes):\n",
    "    xmin, ymin, xmax, ymax = boxes.unbind(1)\n",
    "    boxes = torch.stack((xmin, ymin, xmax - xmin, ymax - ymin), dim=1)\n",
    "    boxes = boxes.tolist()\n",
    "    return boxes\n",
    "\n",
    "def prepare_for_coco_detection(predictions):\n",
    "    coco_results = []\n",
    "    for image_id, prediction in predictions.items():\n",
    "        if len(prediction) == 0:\n",
    "            continue\n",
    "\n",
    "        scores = prediction[\"scores\"].tolist()\n",
    "        labels = prediction[\"labels\"].tolist()\n",
    "        boxes = prediction[\"boxes\"]\n",
    "        boxes =  convert_to_xywh(boxes)\n",
    "\n",
    "        coco_results.extend(\n",
    "            [\n",
    "                {\n",
    "                    \"image_id\": image_id,\n",
    "                    \"category_id\": labels[k],\n",
    "                    \"bbox\": box,\n",
    "                    \"score\": scores[k],\n",
    "                }\n",
    "                for k, box in enumerate(boxes)\n",
    "            ]\n",
    "        )\n",
    "    return coco_results"
   ]
  },
  {
   "cell_type": "code",
   "execution_count": 4,
   "metadata": {},
   "outputs": [
    {
     "name": "stdout",
     "output_type": "stream",
     "text": [
      "(Num Queries, Dim model, Enc-Dec Layers):  (10, 64, 2)\n",
      "Fold 1\n"
     ]
    },
    {
     "name": "stderr",
     "output_type": "stream",
     "text": [
      "c:\\ProgramData\\miniconda3\\envs\\detr-env\\Lib\\site-packages\\pytorch_lightning\\utilities\\parsing.py:197: UserWarning: Attribute 'detr_model' is an instance of `nn.Module` and is already saved during checkpointing. It is recommended to ignore them using `self.save_hyperparameters(ignore=['detr_model'])`.\n",
      "  rank_zero_warn(\n"
     ]
    },
    {
     "name": "stdout",
     "output_type": "stream",
     "text": [
      "loading annotations into memory...\n",
      "Done (t=0.01s)\n",
      "creating index...\n",
      "index created!\n",
      "Accumulating evaluation results...\n",
      "DONE (t=0.01s).\n",
      "IoU metric: bbox\n",
      " Average Precision  (AP) @[ IoU=0.50:0.95 | area=   all | maxDets=100 ] = 0.000\n",
      " Average Precision  (AP) @[ IoU=0.50      | area=   all | maxDets=100 ] = 0.000\n",
      " Average Precision  (AP) @[ IoU=0.75      | area=   all | maxDets=100 ] = 0.000\n",
      " Average Precision  (AP) @[ IoU=0.50:0.95 | area= small | maxDets=100 ] = 0.000\n",
      " Average Precision  (AP) @[ IoU=0.50:0.95 | area=medium | maxDets=100 ] = 0.000\n",
      " Average Precision  (AP) @[ IoU=0.50:0.95 | area= large | maxDets=100 ] = 0.000\n",
      " Average Recall     (AR) @[ IoU=0.50:0.95 | area=   all | maxDets=  1 ] = 0.000\n",
      " Average Recall     (AR) @[ IoU=0.50:0.95 | area=   all | maxDets= 10 ] = 0.000\n",
      " Average Recall     (AR) @[ IoU=0.50:0.95 | area=   all | maxDets=100 ] = 0.000\n",
      " Average Recall     (AR) @[ IoU=0.50:0.95 | area= small | maxDets=100 ] = 0.000\n",
      " Average Recall     (AR) @[ IoU=0.50:0.95 | area=medium | maxDets=100 ] = 0.000\n",
      " Average Recall     (AR) @[ IoU=0.50:0.95 | area= large | maxDets=100 ] = 0.000\n"
     ]
    }
   ],
   "source": [
    "# HyperParameters\n",
    "\n",
    "hyperparameters = itertools.product(*[\n",
    "    Config.BACKBONES,\n",
    "    Config.NUM_QUERIES,\n",
    "    Config.D_MODEL,\n",
    "    Config.TRANSFORMER_LAYERS,\n",
    "])\n",
    "\n",
    "hyperparameters = itertools.product(*[\n",
    "    ['resnet50.a1_in1k'],\n",
    "    [10],\n",
    "    [64],\n",
    "    [2],\n",
    "])\n",
    "\n",
    "\n",
    "# Hyperparameter Search\n",
    "\n",
    "for backbone, num_queries, d_model, transformer_layers in hyperparameters:\n",
    "    print('(Num Queries, Dim model, Enc-Dec Layers): ', \n",
    "            f'({num_queries}, {d_model}, {transformer_layers})' )\n",
    "\n",
    "    # Training with K-fold Cross Validation \n",
    "\n",
    "    k_fold = KFold(n_splits=10, shuffle=True, random_state=123456)\n",
    "\n",
    "    for fold, (train_idx, valid_idx) in enumerate(k_fold.split(train_valid_dataset)):        \n",
    "        print(f\"Fold {fold + 1}\")\n",
    "        \n",
    "        checkpoints_dir = os.path.join(\n",
    "            'lightning_logs',\n",
    "            f'backbone={backbone.split(\".\")[0]}_queries={num_queries}_dmodel={d_model}_layers={transformer_layers}',\n",
    "            f'fold_{fold+1}',\n",
    "            'checkpoints'\n",
    "        )\n",
    "        checkpoint = [f for f in os.listdir(checkpoints_dir) if 'last' not in f][0]\n",
    "        checkpoint_path = os.path.join(checkpoints_dir, checkpoint)\n",
    "        model = DETRModel.load_from_checkpoint(checkpoint_path)\n",
    "        \n",
    "        test_dataset = get_test_dataset()\n",
    "        evaluator = CocoEvaluator(coco_gt=test_dataset.coco, iou_types=[\"bbox\"])\n",
    "        \n",
    "        test_loader = DataLoader(\n",
    "            dataset = test_dataset,\n",
    "            batch_size = 8,\n",
    "            collate_fn=collate_fn\n",
    "        )\n",
    "        \n",
    "        for batch in test_loader:\n",
    "            labels = batch['labels']\n",
    "            pixel_values = batch['pixel_values']\n",
    "            outputs = model(pixel_values)\n",
    "            predictions = detr_processor.post_process_object_detection(outputs, threshold=0.1)\n",
    "            image_ids = [ label['image_id'].item() for label in labels]\n",
    "            predictions = {image_id:output for image_id, output in zip(image_ids, predictions)}\n",
    "            predictions = prepare_for_coco_detection(predictions)\n",
    "            evaluator.update(predictions)\n",
    "            \n",
    "        evaluator.synchronize_between_processes()\n",
    "        evaluator.accumulate()\n",
    "        evaluator.summarize()\n",
    "\n",
    "\n",
    "        break # Fold\n",
    "    break # Hyperparameter"
   ]
  },
  {
   "cell_type": "code",
   "execution_count": null,
   "metadata": {},
   "outputs": [],
   "source": []
  }
 ],
 "metadata": {
  "kernelspec": {
   "display_name": "detr-env",
   "language": "python",
   "name": "python3"
  },
  "language_info": {
   "codemirror_mode": {
    "name": "ipython",
    "version": 3
   },
   "file_extension": ".py",
   "mimetype": "text/x-python",
   "name": "python",
   "nbconvert_exporter": "python",
   "pygments_lexer": "ipython3",
   "version": "3.11.4"
  },
  "orig_nbformat": 4
 },
 "nbformat": 4,
 "nbformat_minor": 2
}
