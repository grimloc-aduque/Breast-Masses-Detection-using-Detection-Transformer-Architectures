{
 "cells": [
  {
   "cell_type": "code",
   "execution_count": 1,
   "metadata": {},
   "outputs": [],
   "source": [
    "from detr_config import Config\n",
    "from detr_factory import DETRFactory\n",
    "from detr_file_manager import FileManager\n",
    "from detr_model_loader import ModelLoader\n",
    "from detr_data_source import DataSource\n",
    "from detr_model import DETRModel\n",
    "import os\n",
    "import torch\n",
    "\n",
    "from transformers import (DeformableDetrConfig,\n",
    "                          DeformableDetrForObjectDetection,\n",
    "                          DeformableDetrImageProcessor, DetrConfig,\n",
    "                          DetrForObjectDetection, DetrImageProcessor)\n",
    "\n",
    "\n",
    "Config.set_local_settings()"
   ]
  },
  {
   "cell_type": "code",
   "execution_count": 2,
   "metadata": {},
   "outputs": [
    {
     "name": "stderr",
     "output_type": "stream",
     "text": [
      "The `max_size` parameter is deprecated and will be removed in v4.26. Please specify in `size['longest_edge'] instead`.\n"
     ]
    }
   ],
   "source": [
    "hyperparameters = ('DETR', 25, 2)\n",
    "detr_factory = DETRFactory(*hyperparameters)\n",
    "file_manager = FileManager(detr_factory)\n",
    "model_loader = ModelLoader(detr_factory, file_manager)\n",
    "data_source = DataSource(detr_factory, file_manager)\n",
    "file_manager.set_validation_setup(fold=1)\n",
    "model = model_loader.load_best_model()"
   ]
  }
 ],
 "metadata": {
  "kernelspec": {
   "display_name": "detr-env",
   "language": "python",
   "name": "python3"
  },
  "language_info": {
   "codemirror_mode": {
    "name": "ipython",
    "version": 3
   },
   "file_extension": ".py",
   "mimetype": "text/x-python",
   "name": "python",
   "nbconvert_exporter": "python",
   "pygments_lexer": "ipython3",
   "version": "3.11.4"
  },
  "orig_nbformat": 4
 },
 "nbformat": 4,
 "nbformat_minor": 2
}
