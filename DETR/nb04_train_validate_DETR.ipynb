{
 "cells": [
  {
   "cell_type": "code",
   "execution_count": 1,
   "metadata": {},
   "outputs": [],
   "source": [
    "from detr_config import Config\n",
    "from detr_dataset import DataGenerator\n",
    "from detr_trainer import get_trainer\n",
    "from detr_evaluation import ModelEvaluator\n",
    "from detr_model import ModelGenerator\n",
    "from detr_file_manager import FileManager\n",
    "from detr_metrics import MetricsAggregator"
   ]
  },
  {
   "cell_type": "code",
   "execution_count": 2,
   "metadata": {},
   "outputs": [
    {
     "name": "stderr",
     "output_type": "stream",
     "text": [
      "The `max_size` parameter is deprecated and will be removed in v4.26. Please specify in `size['longest_edge'] instead`.\n"
     ]
    },
    {
     "name": "stdout",
     "output_type": "stream",
     "text": [
      "Model Name:  model=DETR_queries=100_layers=6\n"
     ]
    },
    {
     "name": "stderr",
     "output_type": "stream",
     "text": [
      "Some weights of the model checkpoint at facebook/detr-resnet-50 were not used when initializing DetrForObjectDetection: ['model.backbone.conv_encoder.model.layer4.0.downsample.1.num_batches_tracked', 'model.backbone.conv_encoder.model.layer2.0.downsample.1.num_batches_tracked', 'model.backbone.conv_encoder.model.layer3.0.downsample.1.num_batches_tracked', 'model.backbone.conv_encoder.model.layer1.0.downsample.1.num_batches_tracked']\n",
      "- This IS expected if you are initializing DetrForObjectDetection from the checkpoint of a model trained on another task or with another architecture (e.g. initializing a BertForSequenceClassification model from a BertForPreTraining model).\n",
      "- This IS NOT expected if you are initializing DetrForObjectDetection from the checkpoint of a model that you expect to be exactly identical (initializing a BertForSequenceClassification model from a BertForSequenceClassification model).\n",
      "Some weights of DetrForObjectDetection were not initialized from the model checkpoint at facebook/detr-resnet-50 and are newly initialized because the shapes did not match:\n",
      "- class_labels_classifier.weight: found shape torch.Size([92, 256]) in the checkpoint and torch.Size([2, 256]) in the model instantiated\n",
      "- class_labels_classifier.bias: found shape torch.Size([92]) in the checkpoint and torch.Size([2]) in the model instantiated\n",
      "You should probably TRAIN this model on a down-stream task to be able to use it for predictions and inference.\n",
      "c:\\ProgramData\\miniconda3\\envs\\detr-env\\Lib\\site-packages\\pytorch_lightning\\utilities\\parsing.py:197: UserWarning: Attribute 'detr' is an instance of `nn.Module` and is already saved during checkpointing. It is recommended to ignore them using `self.save_hyperparameters(ignore=['detr'])`.\n",
      "  rank_zero_warn(\n"
     ]
    },
    {
     "name": "stdout",
     "output_type": "stream",
     "text": [
      "Model Name:  model=DETR_queries=100_layers=6\n",
      "Loading Annotations from:  InBreast_Coco\\fold_1\\train\\_annotations.coco.json\n",
      "loading annotations into memory...\n",
      "Done (t=0.00s)\n",
      "creating index...\n",
      "index created!\n",
      "Loading Annotations from:  InBreast_Coco\\fold_1\\valid\\_annotations.coco.json\n",
      "loading annotations into memory...\n",
      "Done (t=0.00s)\n",
      "creating index...\n",
      "index created!\n"
     ]
    },
    {
     "name": "stderr",
     "output_type": "stream",
     "text": [
      "GPU available: False, used: False\n",
      "TPU available: False, using: 0 TPU cores\n",
      "IPU available: False, using: 0 IPUs\n",
      "HPU available: False, using: 0 HPUs\n",
      "\n",
      "  | Name | Type                   | Params\n",
      "------------------------------------------------\n",
      "0 | detr | DetrForObjectDetection | 41.5 M\n",
      "------------------------------------------------\n",
      "41.3 M    Trainable params\n",
      "222 K     Non-trainable params\n",
      "41.5 M    Total params\n",
      "166.007   Total estimated model params size (MB)\n"
     ]
    },
    {
     "name": "stdout",
     "output_type": "stream",
     "text": [
      "<generator object Module.named_parameters at 0x0000020929663740>\n"
     ]
    },
    {
     "data": {
      "application/vnd.jupyter.widget-view+json": {
       "model_id": "fd1cf6c7e4ac4f26991b1a08e6de67ce",
       "version_major": 2,
       "version_minor": 0
      },
      "text/plain": [
       "Sanity Checking: 0it [00:00, ?it/s]"
      ]
     },
     "metadata": {},
     "output_type": "display_data"
    },
    {
     "name": "stderr",
     "output_type": "stream",
     "text": [
      "c:\\ProgramData\\miniconda3\\envs\\detr-env\\Lib\\site-packages\\pytorch_lightning\\trainer\\connectors\\data_connector.py:490: PossibleUserWarning: Your `val_dataloader`'s sampler has shuffling enabled, it is strongly recommended that you turn shuffling off for val/test dataloaders.\n",
      "  rank_zero_warn(\n",
      "c:\\ProgramData\\miniconda3\\envs\\detr-env\\Lib\\site-packages\\pytorch_lightning\\trainer\\connectors\\data_connector.py:442: PossibleUserWarning: The dataloader, val_dataloader, does not have many workers which may be a bottleneck. Consider increasing the value of the `num_workers` argument` (try 8 which is the number of cpus on this machine) in the `DataLoader` init to improve performance.\n",
      "  rank_zero_warn(\n",
      "c:\\ProgramData\\miniconda3\\envs\\detr-env\\Lib\\site-packages\\pytorch_lightning\\utilities\\data.py:76: UserWarning: Trying to infer the `batch_size` from an ambiguous collection. The batch size we found is 4. To avoid any miscalculations, use `self.log(..., batch_size=batch_size)`.\n",
      "  warning_cache.warn(\n",
      "c:\\ProgramData\\miniconda3\\envs\\detr-env\\Lib\\site-packages\\pytorch_lightning\\trainer\\connectors\\data_connector.py:442: PossibleUserWarning: The dataloader, train_dataloader, does not have many workers which may be a bottleneck. Consider increasing the value of the `num_workers` argument` (try 8 which is the number of cpus on this machine) in the `DataLoader` init to improve performance.\n",
      "  rank_zero_warn(\n"
     ]
    },
    {
     "data": {
      "application/vnd.jupyter.widget-view+json": {
       "model_id": "695c30dd14024491ab70bf6d43f32550",
       "version_major": 2,
       "version_minor": 0
      },
      "text/plain": [
       "Training: 0it [00:00, ?it/s]"
      ]
     },
     "metadata": {},
     "output_type": "display_data"
    },
    {
     "data": {
      "application/vnd.jupyter.widget-view+json": {
       "model_id": "9fb9af83f83e412f8282b305411eadbb",
       "version_major": 2,
       "version_minor": 0
      },
      "text/plain": [
       "Validation: 0it [00:00, ?it/s]"
      ]
     },
     "metadata": {},
     "output_type": "display_data"
    },
    {
     "name": "stderr",
     "output_type": "stream",
     "text": [
      "c:\\ProgramData\\miniconda3\\envs\\detr-env\\Lib\\site-packages\\pytorch_lightning\\utilities\\data.py:76: UserWarning: Trying to infer the `batch_size` from an ambiguous collection. The batch size we found is 2. To avoid any miscalculations, use `self.log(..., batch_size=batch_size)`.\n",
      "  warning_cache.warn(\n",
      "`Trainer.fit` stopped: `max_epochs=1` reached.\n",
      "c:\\ProgramData\\miniconda3\\envs\\detr-env\\Lib\\site-packages\\pytorch_lightning\\utilities\\parsing.py:197: UserWarning: Attribute 'detr' is an instance of `nn.Module` and is already saved during checkpointing. It is recommended to ignore them using `self.save_hyperparameters(ignore=['detr'])`.\n",
      "  rank_zero_warn(\n"
     ]
    },
    {
     "name": "stdout",
     "output_type": "stream",
     "text": [
      "Accumulating evaluation results...\n",
      "DONE (t=0.01s).\n"
     ]
    },
    {
     "name": "stderr",
     "output_type": "stream",
     "text": [
      "Some weights of the model checkpoint at facebook/detr-resnet-50 were not used when initializing DetrForObjectDetection: ['model.backbone.conv_encoder.model.layer4.0.downsample.1.num_batches_tracked', 'model.backbone.conv_encoder.model.layer2.0.downsample.1.num_batches_tracked', 'model.backbone.conv_encoder.model.layer3.0.downsample.1.num_batches_tracked', 'model.backbone.conv_encoder.model.layer1.0.downsample.1.num_batches_tracked']\n",
      "- This IS expected if you are initializing DetrForObjectDetection from the checkpoint of a model trained on another task or with another architecture (e.g. initializing a BertForSequenceClassification model from a BertForPreTraining model).\n",
      "- This IS NOT expected if you are initializing DetrForObjectDetection from the checkpoint of a model that you expect to be exactly identical (initializing a BertForSequenceClassification model from a BertForSequenceClassification model).\n",
      "Some weights of DetrForObjectDetection were not initialized from the model checkpoint at facebook/detr-resnet-50 and are newly initialized because the shapes did not match:\n",
      "- class_labels_classifier.weight: found shape torch.Size([92, 256]) in the checkpoint and torch.Size([2, 256]) in the model instantiated\n",
      "- class_labels_classifier.bias: found shape torch.Size([92]) in the checkpoint and torch.Size([2]) in the model instantiated\n",
      "You should probably TRAIN this model on a down-stream task to be able to use it for predictions and inference.\n",
      "c:\\ProgramData\\miniconda3\\envs\\detr-env\\Lib\\site-packages\\pytorch_lightning\\utilities\\parsing.py:197: UserWarning: Attribute 'detr' is an instance of `nn.Module` and is already saved during checkpointing. It is recommended to ignore them using `self.save_hyperparameters(ignore=['detr'])`.\n",
      "  rank_zero_warn(\n",
      "GPU available: False, used: False\n",
      "TPU available: False, using: 0 TPU cores\n",
      "IPU available: False, using: 0 IPUs\n",
      "HPU available: False, using: 0 HPUs\n"
     ]
    },
    {
     "name": "stdout",
     "output_type": "stream",
     "text": [
      "Model Name:  model=DETR_queries=100_layers=6\n",
      "Loading Annotations from:  InBreast_Coco\\train_valid\\_annotations.coco.json\n",
      "loading annotations into memory...\n",
      "Done (t=0.00s)\n",
      "creating index...\n",
      "index created!\n",
      "Loading Annotations from:  InBreast_Coco\\test\\_annotations.coco.json\n",
      "loading annotations into memory...\n",
      "Done (t=0.00s)\n",
      "creating index...\n",
      "index created!\n"
     ]
    },
    {
     "name": "stderr",
     "output_type": "stream",
     "text": [
      "\n",
      "  | Name | Type                   | Params\n",
      "------------------------------------------------\n",
      "0 | detr | DetrForObjectDetection | 41.5 M\n",
      "------------------------------------------------\n",
      "41.3 M    Trainable params\n",
      "222 K     Non-trainable params\n",
      "41.5 M    Total params\n",
      "166.007   Total estimated model params size (MB)\n"
     ]
    },
    {
     "name": "stdout",
     "output_type": "stream",
     "text": [
      "<generator object Module.named_parameters at 0x00000209296F8E40>\n"
     ]
    }
   ],
   "source": [
    "\n",
    "Config.set_local_settings()\n",
    "\n",
    "for architecture, num_queries, transformer_layers in Config.HYPERPARAMS:\n",
    "    \n",
    "    model_generator = ModelGenerator(architecture, num_queries, transformer_layers)\n",
    "    image_processor = model_generator.get_image_processor()\n",
    "    file_manager = FileManager(model_generator)\n",
    "    data_generator = DataGenerator(image_processor, file_manager)\n",
    "    \n",
    "    file_manager.clean_model_logs()\n",
    "        \n",
    "    # -----------------------\n",
    "    # K-fold Cross Validation \n",
    "    # -----------------------\n",
    "    \n",
    "    metrics_aggregator = MetricsAggregator(file_manager)\n",
    "\n",
    "    for fold in range(1,11):\n",
    "\n",
    "        # Model\n",
    "        \n",
    "        model = model_generator.get_model()\n",
    "        \n",
    "        # Dataset\n",
    "        \n",
    "        file_manager.set_validation_fold_setup(fold)\n",
    "        \n",
    "        train_dataset, train_loader = data_generator.get_train_dataset_dataloader()\n",
    "        valid_dataset, valid_loader = data_generator.get_valid_dataset_dataloader()\n",
    "\n",
    "        # Training\n",
    "        \n",
    "        fold_version = file_manager.get_fold_version()\n",
    "        trainer = get_trainer(fold_version)\n",
    "        trainer.fit(model, train_loader, valid_loader)\n",
    "        \n",
    "        # Validation\n",
    "        \n",
    "        checkpoints_dir = file_manager.get_checkpoints_dir()\n",
    "        model_evaluator = ModelEvaluator(checkpoints_dir, image_processor, valid_dataset, valid_loader)\n",
    "        valid_metrics = model_evaluator.get_metrics(threshold=Config.THRESHOLD)\n",
    "        \n",
    "        metrics_aggregator.add_valid_metrics(valid_metrics)\n",
    "        metrics_aggregator.save_metrics()\n",
    "        \n",
    "        file_manager.clean_checkpoints()\n",
    "\n",
    "        break # Fold\n",
    "    \n",
    "    # Aggregate K-Fold Metrics\n",
    "    \n",
    "    metrics_aggregator.calculate_valid_mean()\n",
    "    metrics_aggregator.save_metrics()\n",
    "    \n",
    "    # -----------------------\n",
    "    # Testing\n",
    "    # -----------------------\n",
    "    \n",
    "    # Model\n",
    "    \n",
    "    model = model_generator.get_model() \n",
    "\n",
    "    # Dataset\n",
    "    \n",
    "    file_manager.set_training_setup()\n",
    "\n",
    "    train_valid_dataset, train_valid_loader = data_generator.get_train_valid_dataset_dataloader()\n",
    "    test_dataset, test_loader = data_generator.get_test_dataset_dataloader()\n",
    "    \n",
    "    # Training\n",
    "    \n",
    "    test_version = file_manager.get_test_version()\n",
    "    trainer = get_trainer(test_version)\n",
    "    trainer.fit(model, train_valid_loader, test_loader)\n",
    "    \n",
    "    # Testing\n",
    "\n",
    "    checkpoints_dir = file_manager.get_checkpoints_dir()\n",
    "    model_evaluator = ModelEvaluator(checkpoints_dir, image_processor, test_dataset, test_loader)\n",
    "    test_metrics = model_evaluator.get_metrics(threshold=Config.THRESHOLD)\n",
    "    \n",
    "    # Metrics\n",
    "    \n",
    "    metrics_aggregator.add_test_metrics(test_metrics)\n",
    "    metrics_aggregator.save_metrics()\n",
    "    \n",
    "    # break # Hyperparameter"
   ]
  },
  {
   "cell_type": "code",
   "execution_count": null,
   "metadata": {},
   "outputs": [],
   "source": []
  },
  {
   "cell_type": "code",
   "execution_count": null,
   "metadata": {},
   "outputs": [],
   "source": []
  }
 ],
 "metadata": {
  "kernelspec": {
   "display_name": "transformers-env",
   "language": "python",
   "name": "python3"
  },
  "language_info": {
   "codemirror_mode": {
    "name": "ipython",
    "version": 3
   },
   "file_extension": ".py",
   "mimetype": "text/x-python",
   "name": "python",
   "nbconvert_exporter": "python",
   "pygments_lexer": "ipython3",
   "version": "3.11.4"
  },
  "orig_nbformat": 4
 },
 "nbformat": 4,
 "nbformat_minor": 2
}
