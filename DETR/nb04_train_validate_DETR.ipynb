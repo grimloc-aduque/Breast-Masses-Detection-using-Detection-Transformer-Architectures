{
 "cells": [
  {
   "cell_type": "code",
   "execution_count": 1,
   "metadata": {},
   "outputs": [],
   "source": [
    "from detr_config import Config\n",
    "from detr_model_trainer import ModelTrainer\n",
    "from detr_model_evaluator import ModelEvaluator\n",
    "from detr_model_loader import ModelLoader\n",
    "from detr_file_manager import FileManager\n",
    "from detr_metrics import MetricsAggregator\n",
    "from detr_model_loader import ModelLoader\n",
    "from detr_factory import DETRFactory\n",
    "from detr_data_source import DataSource"
   ]
  },
  {
   "cell_type": "code",
   "execution_count": 2,
   "metadata": {},
   "outputs": [
    {
     "name": "stderr",
     "output_type": "stream",
     "text": [
      "The `max_size` parameter is deprecated and will be removed in v4.26. Please specify in `size['longest_edge'] instead`.\n"
     ]
    },
    {
     "name": "stdout",
     "output_type": "stream",
     "text": [
      "Cleaning Logs:  lightning_logs\\model=DETR_queries=100_layers=6\n",
      "New Model:  model=DETR_queries=100_layers=6\n"
     ]
    },
    {
     "name": "stderr",
     "output_type": "stream",
     "text": [
      "Some weights of DetrForObjectDetection were not initialized from the model checkpoint at facebook/detr-resnet-50 and are newly initialized because the shapes did not match:\n",
      "- class_labels_classifier.weight: found shape torch.Size([92, 256]) in the checkpoint and torch.Size([2, 256]) in the model instantiated\n",
      "- class_labels_classifier.bias: found shape torch.Size([92]) in the checkpoint and torch.Size([2]) in the model instantiated\n",
      "You should probably TRAIN this model on a down-stream task to be able to use it for predictions and inference.\n",
      "GPU available: False, used: False\n",
      "TPU available: False, using: 0 TPU cores\n",
      "IPU available: False, using: 0 IPUs\n",
      "HPU available: False, using: 0 HPUs\n"
     ]
    },
    {
     "name": "stdout",
     "output_type": "stream",
     "text": [
      "Loading Annotations from:  InBreast_Coco\\fold_1\\train\\_annotations.coco.json\n",
      "loading annotations into memory...\n",
      "Done (t=0.00s)\n",
      "creating index...\n",
      "index created!\n",
      "Loading Annotations from:  InBreast_Coco\\fold_1\\valid\\_annotations.coco.json\n",
      "loading annotations into memory...\n",
      "Done (t=0.00s)\n",
      "creating index...\n",
      "index created!\n"
     ]
    },
    {
     "name": "stderr",
     "output_type": "stream",
     "text": [
      "\n",
      "  | Name | Type                   | Params\n",
      "------------------------------------------------\n",
      "0 | detr | DetrForObjectDetection | 41.5 M\n",
      "------------------------------------------------\n",
      "41.3 M    Trainable params\n",
      "222 K     Non-trainable params\n",
      "41.5 M    Total params\n",
      "166.007   Total estimated model params size (MB)\n"
     ]
    },
    {
     "name": "stdout",
     "output_type": "stream",
     "text": [
      "<generator object Module.named_parameters at 0x000002643F35EB40>\n"
     ]
    },
    {
     "data": {
      "application/vnd.jupyter.widget-view+json": {
       "model_id": "ef3d781f41484d9a8b9759b1fffd20aa",
       "version_major": 2,
       "version_minor": 0
      },
      "text/plain": [
       "Sanity Checking: 0it [00:00, ?it/s]"
      ]
     },
     "metadata": {},
     "output_type": "display_data"
    },
    {
     "name": "stderr",
     "output_type": "stream",
     "text": [
      "c:\\ProgramData\\miniconda3\\envs\\detr-env\\Lib\\site-packages\\pytorch_lightning\\trainer\\connectors\\data_connector.py:490: PossibleUserWarning: Your `val_dataloader`'s sampler has shuffling enabled, it is strongly recommended that you turn shuffling off for val/test dataloaders.\n",
      "  rank_zero_warn(\n",
      "c:\\ProgramData\\miniconda3\\envs\\detr-env\\Lib\\site-packages\\pytorch_lightning\\trainer\\connectors\\data_connector.py:442: PossibleUserWarning: The dataloader, val_dataloader, does not have many workers which may be a bottleneck. Consider increasing the value of the `num_workers` argument` (try 8 which is the number of cpus on this machine) in the `DataLoader` init to improve performance.\n",
      "  rank_zero_warn(\n",
      "c:\\ProgramData\\miniconda3\\envs\\detr-env\\Lib\\site-packages\\pytorch_lightning\\utilities\\data.py:76: UserWarning: Trying to infer the `batch_size` from an ambiguous collection. The batch size we found is 10. To avoid any miscalculations, use `self.log(..., batch_size=batch_size)`.\n",
      "  warning_cache.warn(\n",
      "c:\\ProgramData\\miniconda3\\envs\\detr-env\\Lib\\site-packages\\pytorch_lightning\\trainer\\connectors\\data_connector.py:442: PossibleUserWarning: The dataloader, train_dataloader, does not have many workers which may be a bottleneck. Consider increasing the value of the `num_workers` argument` (try 8 which is the number of cpus on this machine) in the `DataLoader` init to improve performance.\n",
      "  rank_zero_warn(\n"
     ]
    },
    {
     "data": {
      "application/vnd.jupyter.widget-view+json": {
       "model_id": "6778ae7c58f347c4b61d7111f89a6f26",
       "version_major": 2,
       "version_minor": 0
      },
      "text/plain": [
       "Training: 0it [00:00, ?it/s]"
      ]
     },
     "metadata": {},
     "output_type": "display_data"
    },
    {
     "data": {
      "application/vnd.jupyter.widget-view+json": {
       "model_id": "d44a0a81eabf47eca681781c1f71d36a",
       "version_major": 2,
       "version_minor": 0
      },
      "text/plain": [
       "Validation: 0it [00:00, ?it/s]"
      ]
     },
     "metadata": {},
     "output_type": "display_data"
    },
    {
     "data": {
      "application/vnd.jupyter.widget-view+json": {
       "model_id": "20d48f25130a4124b7255bf85b5cb27a",
       "version_major": 2,
       "version_minor": 0
      },
      "text/plain": [
       "Validation: 0it [00:00, ?it/s]"
      ]
     },
     "metadata": {},
     "output_type": "display_data"
    },
    {
     "data": {
      "application/vnd.jupyter.widget-view+json": {
       "model_id": "d960cb87ed224bc5b7975dab04699b5c",
       "version_major": 2,
       "version_minor": 0
      },
      "text/plain": [
       "Validation: 0it [00:00, ?it/s]"
      ]
     },
     "metadata": {},
     "output_type": "display_data"
    },
    {
     "data": {
      "application/vnd.jupyter.widget-view+json": {
       "model_id": "cf67eb50efee4561804d153bb1758a8c",
       "version_major": 2,
       "version_minor": 0
      },
      "text/plain": [
       "Validation: 0it [00:00, ?it/s]"
      ]
     },
     "metadata": {},
     "output_type": "display_data"
    },
    {
     "data": {
      "application/vnd.jupyter.widget-view+json": {
       "model_id": "e11567dcc5a54cb68990bab11de0b2e3",
       "version_major": 2,
       "version_minor": 0
      },
      "text/plain": [
       "Validation: 0it [00:00, ?it/s]"
      ]
     },
     "metadata": {},
     "output_type": "display_data"
    }
   ],
   "source": [
    "# Config.set_local_settings()\n",
    "Config.set_gpu_settings()\n",
    "\n",
    "for hyperparams in Config.HYPERPARAMS:\n",
    "    architecture, num_queries, transformer_layers = hyperparams\n",
    "    detr_factory = DETRFactory(architecture, num_queries, transformer_layers)    \n",
    "    file_manager = FileManager(detr_factory)\n",
    "    data_source = DataSource(detr_factory, file_manager)\n",
    "    model_loader = ModelLoader(detr_factory, file_manager)\n",
    "    model_trainer = ModelTrainer(file_manager)\n",
    "    metrics_aggregator = MetricsAggregator(file_manager)\n",
    "    \n",
    "    file_manager.clean_model_logs()\n",
    "\n",
    "    # -----------------------\n",
    "    # K-fold Cross Validation\n",
    "    # -----------------------\n",
    "\n",
    "    for fold in Config.FOLDS:\n",
    "\n",
    "        file_manager.set_validation_setup(fold)\n",
    "\n",
    "        # Model\n",
    "        \n",
    "        model = model_loader.new_pretrained_model()\n",
    "        \n",
    "        # Dataset\n",
    "                \n",
    "        train_dataset, train_loader = data_source.get_train_dataset_dataloader()\n",
    "        valid_dataset, valid_loader = data_source.get_valid_dataset_dataloader()\n",
    "\n",
    "        # Training\n",
    "\n",
    "        model_trainer.fit(model, train_loader, valid_loader)\n",
    "        \n",
    "        # Validation - Threshold Optimization\n",
    "        \n",
    "        best_model = model_loader.load_best_model()\n",
    "        model_evaluator = ModelEvaluator(best_model, detr_factory)\n",
    "\n",
    "        for threshold in Config.THRESHOLDS:\n",
    "            valid_metrics = model_evaluator.evaluate(valid_dataset, valid_loader, threshold)\n",
    "            metrics_aggregator.add_metrics(threshold, valid_metrics)\n",
    "        \n",
    "        best_model.to('cpu')\n",
    "        file_manager.clean_checkpoints()        \n",
    "        \n",
    "    \n",
    "    metrics_aggregator.finish_validation()\n",
    "    metrics_aggregator.save_metrics()\n",
    "    \n",
    "    # -----------------------\n",
    "    # Testing\n",
    "    # -----------------------\n",
    "    \n",
    "    # Model\n",
    "    \n",
    "    model = model_loader.new_pretrained_model()\n",
    "\n",
    "    # Dataset\n",
    "    \n",
    "    file_manager.set_testing_setup()\n",
    "\n",
    "    train_valid_dataset, train_valid_loader = data_source.get_train_valid_dataset_dataloader()\n",
    "    test_dataset, test_loader = data_source.get_test_dataset_dataloader()\n",
    "    \n",
    "    # Training\n",
    "    \n",
    "    model_trainer.fit(model, train_valid_loader, test_loader)\n",
    "    "
   ]
  },
  {
   "cell_type": "code",
   "execution_count": null,
   "metadata": {},
   "outputs": [],
   "source": []
  }
 ],
 "metadata": {
  "kernelspec": {
   "display_name": "transformers-env",
   "language": "python",
   "name": "python3"
  },
  "language_info": {
   "codemirror_mode": {
    "name": "ipython",
    "version": 3
   },
   "file_extension": ".py",
   "mimetype": "text/x-python",
   "name": "python",
   "nbconvert_exporter": "python",
   "pygments_lexer": "ipython3",
   "version": "3.11.4"
  },
  "orig_nbformat": 4
 },
 "nbformat": 4,
 "nbformat_minor": 2
}
