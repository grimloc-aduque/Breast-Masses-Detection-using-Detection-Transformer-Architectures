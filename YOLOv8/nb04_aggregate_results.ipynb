{
 "cells": [
  {
   "cell_type": "code",
   "execution_count": 2,
   "metadata": {},
   "outputs": [],
   "source": [
    "from ultralytics import YOLO\n",
    "import json\n",
    "import pandas as pd\n",
    "from yolo_config import Config\n",
    "import os"
   ]
  },
  {
   "cell_type": "markdown",
   "metadata": {},
   "source": [
    "## Agregate Folds"
   ]
  },
  {
   "cell_type": "code",
   "execution_count": 4,
   "metadata": {},
   "outputs": [
    {
     "name": "stdout",
     "output_type": "stream",
     "text": [
      "{'metrics/precision(B)': 0.0, 'metrics/recall(B)': 0.0, 'metrics/mAP50(B)': 0.0, 'metrics/mAP50-95(B)': 0.0, 'fitness': 0.0, 'CM(0,0)': 0.0, 'CM(0,1)': 0.0, 'CM(0,2)': 0.0, 'CM(1,0)': 0.0, 'CM(1,1)': 0.0, 'CM(1,2)': 0.0, 'CM(2,0)': 0.8, 'CM(2,1)': 0.6, 'CM(2,2)': 0.0}\n"
     ]
    }
   ],
   "source": [
    "dataset = 'InBreast_Yolov8'\n",
    "\n",
    "keys = ['metrics/precision(B)', 'metrics/recall(B)', 'metrics/mAP50(B)', \n",
    "        'metrics/mAP50-95(B)', 'fitness']\n",
    "\n",
    "metrics_by_model = []\n",
    "index = []\n",
    "\n",
    "for model_size in Config.MODEL_SIZES:\n",
    "    \n",
    "    metrics_path = os.path.join(\n",
    "        Config.RUNS_DIR, \n",
    "        Config.DATASET, \n",
    "        model_size,\n",
    "        Config.METRICS_FILE\n",
    "    )\n",
    "    metrics = pd.read_csv(metrics_path)\n",
    "    \n",
    "    metrics_by_model.append(metrics.loc['mean'])\n",
    "    index.append(model_size)\n",
    "    \n",
    "\n",
    "output_path = os.path.join(\n",
    "    Config.RUNS_DIR,\n",
    "    Config.DATASET,\n",
    "    'mean_metrics.csv'\n",
    ")\n",
    "metrics_by_model = pd.DataFrame(metrics_by_model, index=index)\n",
    "metrics_by_model.to_csv(output_path)"
   ]
  }
 ],
 "metadata": {
  "kernelspec": {
   "display_name": "yolo-env",
   "language": "python",
   "name": "python3"
  },
  "language_info": {
   "codemirror_mode": {
    "name": "ipython",
    "version": 3
   },
   "file_extension": ".py",
   "mimetype": "text/x-python",
   "name": "python",
   "nbconvert_exporter": "python",
   "pygments_lexer": "ipython3",
   "version": "3.8.17"
  },
  "orig_nbformat": 4
 },
 "nbformat": 4,
 "nbformat_minor": 2
}
