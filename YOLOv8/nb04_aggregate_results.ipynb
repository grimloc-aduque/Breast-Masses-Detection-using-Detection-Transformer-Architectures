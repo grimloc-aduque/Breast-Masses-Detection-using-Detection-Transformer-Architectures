{
 "cells": [
  {
   "cell_type": "code",
   "execution_count": 2,
   "metadata": {},
   "outputs": [],
   "source": [
    "from ultralytics import YOLO\n",
    "import json\n",
    "import pandas as pd\n",
    "from yolo_config import Config\n",
    "import os"
   ]
  },
  {
   "cell_type": "markdown",
   "metadata": {},
   "source": [
    "## Agregate Folds"
   ]
  },
  {
   "cell_type": "code",
   "execution_count": 4,
   "metadata": {},
   "outputs": [
    {
     "name": "stdout",
     "output_type": "stream",
     "text": [
      "{'metrics/precision(B)': 0.0, 'metrics/recall(B)': 0.0, 'metrics/mAP50(B)': 0.0, 'metrics/mAP50-95(B)': 0.0, 'fitness': 0.0, 'CM(0,0)': 0.0, 'CM(0,1)': 0.0, 'CM(0,2)': 0.0, 'CM(1,0)': 0.0, 'CM(1,1)': 0.0, 'CM(1,2)': 0.0, 'CM(2,0)': 0.8, 'CM(2,1)': 0.6, 'CM(2,2)': 0.0}\n"
     ]
    }
   ],
   "source": [
    "dataset = 'InBreast_Yolov8'\n",
    "\n",
    "confusion_matrix_keys = [f'CM({i},{j})' for i in range(3) for j in range(3)]\n",
    "\n",
    "keys = ['metrics/precision(B)', 'metrics/recall(B)', 'metrics/mAP50(B)', \n",
    "        'metrics/mAP50-95(B)', 'fitness'] + confusion_matrix_keys\n",
    "\n",
    "for model_size in Config.MODEL_SIZES:\n",
    "    for conf_threshold in Config.THRESHOLDS:\n",
    "        aggregated_results = {k:0 for k in keys}\n",
    "\n",
    "        model_dir = f'{model_size}_conf={conf_threshold}'\n",
    "        model_path = os.path.join(Config.RUNS_DIR, Config.DATASET, model_dir)\n",
    "\n",
    "        for fold in range(1,11):\n",
    "            fold_dir = f'fold_{fold}'\n",
    "            results_path = os.path.join(model_path, fold_dir, 'val', 'results.json')\n",
    "            results = json.load(open(results_path))\n",
    "            for k in keys:\n",
    "                aggregated_results[k] += results[k]\n",
    "            \n",
    "        aggregated_results = {k:v/10 for k,v in aggregated_results.items()}\n",
    "        aggregated_results_path = os.path.join(model_path, 'results.json')\n",
    "\n",
    "        with open(aggregated_results_path, 'w+') as file:\n",
    "            json.dump(aggregated_results, file)\n",
    "\n",
    "        print(aggregated_results)\n",
    "        \n",
    "        break # Threshold\n",
    "    break # Model Size"
   ]
  },
  {
   "cell_type": "markdown",
   "metadata": {},
   "source": [
    "## Summarize Results"
   ]
  },
  {
   "cell_type": "code",
   "execution_count": 5,
   "metadata": {},
   "outputs": [],
   "source": [
    "all_results = []\n",
    "model_names = []\n",
    "\n",
    "for model_size in Config.MODEL_SIZES:\n",
    "    for conf_threshold in Config.THRESHOLDS:\n",
    "        model_name = f'{model_size}_conf={conf_threshold}'\n",
    "        aggregated_results_path = os.path.join(Config.RUNS_DIR, Config.DATASET, \n",
    "                                               model_name, 'results.json')\n",
    "\n",
    "        all_results.append(json.load(open(aggregated_results_path)))\n",
    "        model_names.append(model_name)\n",
    "\n",
    "        break # Threshold\n",
    "    break # Model Size\n",
    "\n",
    "all_results_path = os.path.join(Config.RUNS_DIR, Config.DATASET, 'all_results.csv')\n",
    "all_results = pd.DataFrame(all_results, index=model_names)\n"
   ]
  },
  {
   "cell_type": "code",
   "execution_count": 6,
   "metadata": {},
   "outputs": [
    {
     "data": {
      "text/html": [
       "<div>\n",
       "<style scoped>\n",
       "    .dataframe tbody tr th:only-of-type {\n",
       "        vertical-align: middle;\n",
       "    }\n",
       "\n",
       "    .dataframe tbody tr th {\n",
       "        vertical-align: top;\n",
       "    }\n",
       "\n",
       "    .dataframe thead th {\n",
       "        text-align: right;\n",
       "    }\n",
       "</style>\n",
       "<table border=\"1\" class=\"dataframe\">\n",
       "  <thead>\n",
       "    <tr style=\"text-align: right;\">\n",
       "      <th></th>\n",
       "      <th>metrics/precision(B)</th>\n",
       "      <th>metrics/recall(B)</th>\n",
       "      <th>metrics/mAP50(B)</th>\n",
       "      <th>metrics/mAP50-95(B)</th>\n",
       "      <th>fitness</th>\n",
       "      <th>CM(0,0)</th>\n",
       "      <th>CM(0,1)</th>\n",
       "      <th>CM(0,2)</th>\n",
       "      <th>CM(1,0)</th>\n",
       "      <th>CM(1,1)</th>\n",
       "      <th>CM(1,2)</th>\n",
       "      <th>CM(2,0)</th>\n",
       "      <th>CM(2,1)</th>\n",
       "      <th>CM(2,2)</th>\n",
       "    </tr>\n",
       "  </thead>\n",
       "  <tbody>\n",
       "    <tr>\n",
       "      <th>yolov8n.pt_conf=0.1</th>\n",
       "      <td>0</td>\n",
       "      <td>0</td>\n",
       "      <td>0</td>\n",
       "      <td>0</td>\n",
       "      <td>0</td>\n",
       "      <td>0</td>\n",
       "      <td>0</td>\n",
       "      <td>0</td>\n",
       "      <td>0</td>\n",
       "      <td>0</td>\n",
       "      <td>0</td>\n",
       "      <td>0.8</td>\n",
       "      <td>0.6</td>\n",
       "      <td>0</td>\n",
       "    </tr>\n",
       "  </tbody>\n",
       "</table>\n",
       "</div>"
      ],
      "text/plain": [
       "                     metrics/precision(B)  metrics/recall(B)  \\\n",
       "yolov8n.pt_conf=0.1                     0                  0   \n",
       "\n",
       "                     metrics/mAP50(B)  metrics/mAP50-95(B)  fitness  CM(0,0)  \\\n",
       "yolov8n.pt_conf=0.1                 0                    0        0        0   \n",
       "\n",
       "                     CM(0,1)  CM(0,2)  CM(1,0)  CM(1,1)  CM(1,2)  CM(2,0)  \\\n",
       "yolov8n.pt_conf=0.1        0        0        0        0        0      0.8   \n",
       "\n",
       "                     CM(2,1)  CM(2,2)  \n",
       "yolov8n.pt_conf=0.1      0.6        0  "
      ]
     },
     "execution_count": 6,
     "metadata": {},
     "output_type": "execute_result"
    }
   ],
   "source": [
    "all_results.to_csv(all_results_path)\n",
    "all_results"
   ]
  },
  {
   "cell_type": "code",
   "execution_count": null,
   "metadata": {},
   "outputs": [],
   "source": []
  }
 ],
 "metadata": {
  "kernelspec": {
   "display_name": "yolo-env",
   "language": "python",
   "name": "python3"
  },
  "language_info": {
   "codemirror_mode": {
    "name": "ipython",
    "version": 3
   },
   "file_extension": ".py",
   "mimetype": "text/x-python",
   "name": "python",
   "nbconvert_exporter": "python",
   "pygments_lexer": "ipython3",
   "version": "3.8.17"
  },
  "orig_nbformat": 4
 },
 "nbformat": 4,
 "nbformat_minor": 2
}
