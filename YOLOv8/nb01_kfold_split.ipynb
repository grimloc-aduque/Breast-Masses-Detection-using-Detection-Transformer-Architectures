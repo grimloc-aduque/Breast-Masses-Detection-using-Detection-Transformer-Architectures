{
 "cells": [
  {
   "cell_type": "code",
   "execution_count": 1,
   "metadata": {},
   "outputs": [],
   "source": [
    "import os\n",
    "import shutil\n",
    "\n",
    "import numpy as np\n",
    "from sklearn.model_selection import KFold\n",
    "from yolo_config import Config\n"
   ]
  },
  {
   "cell_type": "code",
   "execution_count": 2,
   "metadata": {},
   "outputs": [],
   "source": [
    "def copy_images(files, data_dir):\n",
    "    if os.path.exists(data_dir):\n",
    "        shutil.rmtree(data_dir)\n",
    "    os.makedirs(data_dir)\n",
    "\n",
    "    images_folder = f'{data_dir}/images'\n",
    "    labels_folder = f'{data_dir}/labels'\n",
    "    os.mkdir(images_folder)\n",
    "    os.mkdir(labels_folder)\n",
    "    for file in files:\n",
    "        shutil.copy(f'./{Config.DATASET}/train_valid/images/{file}.jpg', f'{images_folder}/{file}.jpg')\n",
    "        shutil.copy(f'./{Config.DATASET}/train_valid/labels/{file}.txt', f'{labels_folder}/{file}.txt')\n",
    "\n",
    "\n",
    "def copy_train_val_images(train_files, valid_files, fold):\n",
    "    \n",
    "    data_yaml = f'''\n",
    "path: C:/Users/Alejandro Duque/Documents/USFQ/Proyecto Integrador/Workspace/{Config.ROOT}/{Config.DATASET}\n",
    "\n",
    "train: ./fold_{fold}/train/images\n",
    "val: ./fold_{fold}/valid/images\n",
    "test: ./test/images\n",
    "\n",
    "nc: 2\n",
    "names: ['Mass', 'No-Mass']\n",
    "    '''\n",
    "\n",
    "    data_docker_yaml = f'''\n",
    "path: /home/{Config.ROOT}/{Config.DATASET}\n",
    "\n",
    "train: ./fold_{fold}/train/images\n",
    "val: ./fold_{fold}/valid/images\n",
    "test: ./test/images\n",
    "\n",
    "nc: 2\n",
    "names: ['Mass', 'No-Mass']\n",
    "'''\n",
    "    \n",
    "    fold_dir =   f'./{Config.DATASET}/fold_{fold}'\n",
    "    train_dir = f'{fold_dir}/train'\n",
    "    valid_dir = f'{fold_dir}/valid'\n",
    "\n",
    "    copy_images(train_files, train_dir)\n",
    "    copy_images(valid_files, valid_dir)\n",
    "\n",
    "    open(f'{fold_dir}/data.yaml', 'w+').write(data_yaml)\n",
    "    open(f'{fold_dir}/data_docker.yaml', 'w+').write(data_docker_yaml)\n",
    "\n"
   ]
  },
  {
   "cell_type": "code",
   "execution_count": 3,
   "metadata": {},
   "outputs": [],
   "source": [
    "train_valid_files = os.listdir(f'./{Config.DATASET}/train_valid/images')\n",
    "train_valid_files = [os.path.splitext(file)[0] for file in train_valid_files]\n",
    "\n",
    "kfold = KFold(n_splits=10, shuffle=True, random_state=123456)\n",
    "\n",
    "for i, (train_index, valid_index) in enumerate(kfold.split(train_valid_files)):\n",
    "    fold = i+1\n",
    "    train_files = np.array(train_valid_files)[train_index]\n",
    "    valid_files = np.array(train_valid_files)[valid_index]\n",
    "    copy_train_val_images(train_files, valid_files, fold)"
   ]
  },
  {
   "cell_type": "code",
   "execution_count": null,
   "metadata": {},
   "outputs": [],
   "source": []
  }
 ],
 "metadata": {
  "kernelspec": {
   "display_name": "ultralytics",
   "language": "python",
   "name": "python3"
  },
  "language_info": {
   "codemirror_mode": {
    "name": "ipython",
    "version": 3
   },
   "file_extension": ".py",
   "mimetype": "text/x-python",
   "name": "python",
   "nbconvert_exporter": "python",
   "pygments_lexer": "ipython3",
   "version": "3.8.18"
  },
  "orig_nbformat": 4,
  "vscode": {
   "interpreter": {
    "hash": "0e622d1283064d73c8f6d51adc03f3ec6991bddcb6fbda5f26f1d2b279ff87d2"
   }
  }
 },
 "nbformat": 4,
 "nbformat_minor": 2
}
