{
 "cells": [
  {
   "cell_type": "code",
   "execution_count": 4,
   "metadata": {},
   "outputs": [],
   "source": [
    "from ultralytics import YOLO\n",
    "import json\n",
    "import pandas as pd\n",
    "from yolo_config import Config\n",
    "import os"
   ]
  },
  {
   "cell_type": "markdown",
   "metadata": {},
   "source": [
    "## Agregate Folds"
   ]
  },
  {
   "cell_type": "code",
   "execution_count": 6,
   "metadata": {},
   "outputs": [
    {
     "name": "stdout",
     "output_type": "stream",
     "text": [
      "{'metrics/precision(B)': 0.8731413559911483, 'metrics/recall(B)': 0.9276301258335632, 'metrics/mAP50(B)': 0.9268554533244533, 'metrics/mAP50-95(B)': 0.7406831321185215, 'fitness': 0.7593003642391148, 'TP': 9.5, 'FP': 0.9, 'FN': 0.6, 'TN': 0.0}\n",
      "{'metrics/precision(B)': 0.8733084026251425, 'metrics/recall(B)': 0.9286497598542471, 'metrics/mAP50(B)': 0.9259188650891591, 'metrics/mAP50-95(B)': 0.7434004238519243, 'fitness': 0.7616522679756477, 'TP': 9.5, 'FP': 0.9, 'FN': 0.6, 'TN': 0.0}\n",
      "{'metrics/precision(B)': 0.8714902208069608, 'metrics/recall(B)': 0.9175386487431361, 'metrics/mAP50(B)': 0.9231288379398379, 'metrics/mAP50-95(B)': 0.7411285222627374, 'fitness': 0.7593285538304474, 'TP': 9.5, 'FP': 0.6, 'FN': 0.6, 'TN': 0.0}\n",
      "{'metrics/precision(B)': 0.8925377585324256, 'metrics/recall(B)': 0.8902909937417747, 'metrics/mAP50(B)': 0.9124316733127982, 'metrics/mAP50-95(B)': 0.734347829139194, 'fitness': 0.7521562135565546, 'TP': 9.2, 'FP': 0.3, 'FN': 0.9, 'TN': 0.0}\n"
     ]
    }
   ],
   "source": [
    "dataset = 'InBreast_Yolov8'\n",
    "\n",
    "\n",
    "keys = ['metrics/precision(B)', 'metrics/recall(B)', 'metrics/mAP50(B)', 'metrics/mAP50-95(B)', 'fitness',\n",
    "        'TP', 'FP', 'FN', 'TN']\n",
    "\n",
    "for model_size in Config.MODEL_SIZES:\n",
    "    for conf_threshold in Config.THRESHOLDS:\n",
    "        aggregated_results = {k:0 for k in keys}\n",
    "\n",
    "        model_dir = f'{model_size}_conf_{conf_threshold}'\n",
    "        model_path = os.path.join(Config.RUNS_DIR, Config.DATASET, model_size, model_dir)\n",
    "\n",
    "        for fold in range(1,11):\n",
    "            fold_dir = f'fold_{fold}'\n",
    "            results_path = os.path.join(model_path, fold_dir, 'val', 'results.json')\n",
    "            results = json.load(open(results_path))\n",
    "            for k in keys:\n",
    "                aggregated_results[k] += results[k]\n",
    "            \n",
    "        aggregated_results = {k:v/10 for k,v in aggregated_results.items()}\n",
    "        aggregated_results_path = os.path.join(model_path, 'results.json')\n",
    "\n",
    "        with open(aggregated_results_path, 'w+') as file:\n",
    "            json.dump(aggregated_results, file)\n",
    "\n",
    "        print(aggregated_results)\n",
    "        \n",
    "        # break # Threshold\n",
    "    break # Model Size"
   ]
  },
  {
   "cell_type": "markdown",
   "metadata": {},
   "source": [
    "## Summarize Results"
   ]
  },
  {
   "cell_type": "code",
   "execution_count": 9,
   "metadata": {},
   "outputs": [],
   "source": [
    "all_results = []\n",
    "model_names = []\n",
    "\n",
    "for model_size in Config.MODEL_SIZES:\n",
    "    for conf_threshold in Config.THRESHOLDS:\n",
    "        model_name = f'{model_size}_conf_{conf_threshold}'\n",
    "        aggregated_results_path = os.path.join(Config.RUNS_DIR, Config.DATASET, \n",
    "                                               model_path, 'results.json')\n",
    "\n",
    "        all_results.append(json.load(open(aggregated_results_path)))\n",
    "        model_names.append(model_name)\n",
    "\n",
    "    #     break # Threshold\n",
    "    break # Model Size\n",
    "\n",
    "all_results_path = os.path.join(Config.RUNS_DIR, Config.DATASET, 'all_results.csv')\n",
    "all_results = pd.DataFrame(all_results, index=model_names)\n",
    "all_results.to_csv(all_results_path)"
   ]
  },
  {
   "cell_type": "code",
   "execution_count": 10,
   "metadata": {},
   "outputs": [
    {
     "data": {
      "text/html": [
       "<div>\n",
       "<style scoped>\n",
       "    .dataframe tbody tr th:only-of-type {\n",
       "        vertical-align: middle;\n",
       "    }\n",
       "\n",
       "    .dataframe tbody tr th {\n",
       "        vertical-align: top;\n",
       "    }\n",
       "\n",
       "    .dataframe thead th {\n",
       "        text-align: right;\n",
       "    }\n",
       "</style>\n",
       "<table border=\"1\" class=\"dataframe\">\n",
       "  <thead>\n",
       "    <tr style=\"text-align: right;\">\n",
       "      <th></th>\n",
       "      <th>metrics/precision(B)</th>\n",
       "      <th>metrics/recall(B)</th>\n",
       "      <th>metrics/mAP50(B)</th>\n",
       "      <th>metrics/mAP50-95(B)</th>\n",
       "      <th>fitness</th>\n",
       "      <th>TP</th>\n",
       "      <th>FP</th>\n",
       "      <th>FN</th>\n",
       "      <th>TN</th>\n",
       "    </tr>\n",
       "  </thead>\n",
       "  <tbody>\n",
       "    <tr>\n",
       "      <th>yolov8n.pt_conf_0.1</th>\n",
       "      <td>0.873141</td>\n",
       "      <td>0.927630</td>\n",
       "      <td>0.926855</td>\n",
       "      <td>0.740683</td>\n",
       "      <td>0.759300</td>\n",
       "      <td>9.5</td>\n",
       "      <td>0.9</td>\n",
       "      <td>0.6</td>\n",
       "      <td>0.0</td>\n",
       "    </tr>\n",
       "    <tr>\n",
       "      <th>yolov8n.pt_conf_0.2</th>\n",
       "      <td>0.873308</td>\n",
       "      <td>0.928650</td>\n",
       "      <td>0.925919</td>\n",
       "      <td>0.743400</td>\n",
       "      <td>0.761652</td>\n",
       "      <td>9.5</td>\n",
       "      <td>0.9</td>\n",
       "      <td>0.6</td>\n",
       "      <td>0.0</td>\n",
       "    </tr>\n",
       "    <tr>\n",
       "      <th>yolov8n.pt_conf_0.3</th>\n",
       "      <td>0.871490</td>\n",
       "      <td>0.917539</td>\n",
       "      <td>0.923129</td>\n",
       "      <td>0.741129</td>\n",
       "      <td>0.759329</td>\n",
       "      <td>9.5</td>\n",
       "      <td>0.6</td>\n",
       "      <td>0.6</td>\n",
       "      <td>0.0</td>\n",
       "    </tr>\n",
       "    <tr>\n",
       "      <th>yolov8n.pt_conf_0.4</th>\n",
       "      <td>0.892538</td>\n",
       "      <td>0.890291</td>\n",
       "      <td>0.912432</td>\n",
       "      <td>0.734348</td>\n",
       "      <td>0.752156</td>\n",
       "      <td>9.2</td>\n",
       "      <td>0.3</td>\n",
       "      <td>0.9</td>\n",
       "      <td>0.0</td>\n",
       "    </tr>\n",
       "  </tbody>\n",
       "</table>\n",
       "</div>"
      ],
      "text/plain": [
       "                     metrics/precision(B)  metrics/recall(B)  \\\n",
       "yolov8n.pt_conf_0.1              0.873141           0.927630   \n",
       "yolov8n.pt_conf_0.2              0.873308           0.928650   \n",
       "yolov8n.pt_conf_0.3              0.871490           0.917539   \n",
       "yolov8n.pt_conf_0.4              0.892538           0.890291   \n",
       "\n",
       "                     metrics/mAP50(B)  metrics/mAP50-95(B)   fitness   TP  \\\n",
       "yolov8n.pt_conf_0.1          0.926855             0.740683  0.759300  9.5   \n",
       "yolov8n.pt_conf_0.2          0.925919             0.743400  0.761652  9.5   \n",
       "yolov8n.pt_conf_0.3          0.923129             0.741129  0.759329  9.5   \n",
       "yolov8n.pt_conf_0.4          0.912432             0.734348  0.752156  9.2   \n",
       "\n",
       "                      FP   FN   TN  \n",
       "yolov8n.pt_conf_0.1  0.9  0.6  0.0  \n",
       "yolov8n.pt_conf_0.2  0.9  0.6  0.0  \n",
       "yolov8n.pt_conf_0.3  0.6  0.6  0.0  \n",
       "yolov8n.pt_conf_0.4  0.3  0.9  0.0  "
      ]
     },
     "execution_count": 10,
     "metadata": {},
     "output_type": "execute_result"
    }
   ],
   "source": [
    "all_results"
   ]
  },
  {
   "cell_type": "code",
   "execution_count": null,
   "metadata": {},
   "outputs": [],
   "source": []
  }
 ],
 "metadata": {
  "kernelspec": {
   "display_name": "yolo-env",
   "language": "python",
   "name": "python3"
  },
  "language_info": {
   "codemirror_mode": {
    "name": "ipython",
    "version": 3
   },
   "file_extension": ".py",
   "mimetype": "text/x-python",
   "name": "python",
   "nbconvert_exporter": "python",
   "pygments_lexer": "ipython3",
   "version": "3.8.17"
  },
  "orig_nbformat": 4
 },
 "nbformat": 4,
 "nbformat_minor": 2
}
