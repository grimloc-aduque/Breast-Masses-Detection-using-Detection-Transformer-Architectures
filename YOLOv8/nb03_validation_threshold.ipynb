{
 "cells": [
  {
   "cell_type": "code",
   "execution_count": 2,
   "metadata": {},
   "outputs": [],
   "source": [
    "from ultralytics import YOLO\n",
    "import json\n",
    "from yolo_config import Config\n",
    "import os"
   ]
  },
  {
   "cell_type": "code",
   "execution_count": 31,
   "metadata": {},
   "outputs": [
    {
     "name": "stderr",
     "output_type": "stream",
     "text": [
      "Ultralytics YOLOv8.0.164  Python-3.8.17 torch-2.0.1+cpu CPU (11th Gen Intel Core(TM) i7-1165G7 2.80GHz)\n",
      "Model summary (fused): 168 layers, 3006038 parameters, 0 gradients\n",
      "\u001b[34m\u001b[1mval: \u001b[0mScanning C:\\Users\\Alejandro Duque\\Documents\\USFQ\\Proyecto Integrador\\Workspace\\YOLOv8\\InBreast_Yolov8\\fold_1\\valid\\labels.cache... 19 images, 5 backgrounds, 0 corrupt: 100%|██████████| 19/19 [00:00<?, ?it/s]\n",
      "                 Class     Images  Instances      Box(P          R      mAP50  mAP50-95): 100%|██████████| 2/2 [00:09<00:00,  4.82s/it]\n",
      "                   all         19         14          0          0          0          0\n",
      "Speed: 8.0ms preprocess, 470.7ms inference, 0.0ms loss, 3.0ms postprocess per image\n",
      "Results saved to \u001b[1mruns_usfq_server\\InBreast_Yolov8\\yolov8n.pt_conf=0.1\\fold_1\\val3\u001b[0m\n"
     ]
    }
   ],
   "source": [
    "for model_size in Config.MODEL_SIZES:\n",
    "    for threshold in Config.THRESHOLDS:\n",
    "        for fold in range(1,11):\n",
    "\n",
    "            # Weights From Training\n",
    "\n",
    "            threshold_dir = f'{model_size}_conf={threshold}'\n",
    "            fold_dir = f'fold_{fold}'\n",
    "\n",
    "            yaml_path = os.path.join(Config.DATASET, fold_dir, 'data.yaml')\n",
    "\n",
    "            best_weights_path = os.path.join(Config.RUNS_DIR, Config.DATASET, model_size,\n",
    "                                             fold_dir, 'train', 'weights','best.pt')\n",
    "\n",
    "            model = YOLO(best_weights_path)\n",
    "\n",
    "            # Validate for every threshold\n",
    "\n",
    "            validation_project = os.path.join(Config.RUNS_DIR, Config.DATASET, \n",
    "                                              threshold_dir, fold_dir)\n",
    "            metrics = model.val(\n",
    "                data = yaml_path, \n",
    "                split = 'val', \n",
    "                conf = threshold, \n",
    "                project = validation_project, \n",
    "                save_json = True\n",
    "            )\n",
    "            \n",
    "            \n",
    "            confusion_matrix_keys = [f'CM({i},{j})' for i in range(3) for j in range(3)]\n",
    "            confusion_matrix_values =  metrics.confusion_matrix.matrix.flatten()\n",
    "            confusion_matrix_dict = {k:v for (k,v) in zip(confusion_matrix_keys, confusion_matrix_values)}\n",
    "\n",
    "            results = metrics.results_dict\n",
    "            results.update(confusion_matrix_dict)\n",
    "\n",
    "            results_path = os.path.join(validation_project, 'val', 'results.json')\n",
    "\n",
    "            with open(results_path, 'w') as file:\n",
    "                json.dump(results, file)\n",
    "\n",
    "            break # Fold\n",
    "        break # Confidence\n",
    "    break # Model Size\n"
   ]
  },
  {
   "cell_type": "code",
   "execution_count": null,
   "metadata": {},
   "outputs": [],
   "source": []
  }
 ],
 "metadata": {
  "kernelspec": {
   "display_name": "yolo-env",
   "language": "python",
   "name": "python3"
  },
  "language_info": {
   "codemirror_mode": {
    "name": "ipython",
    "version": 3
   },
   "file_extension": ".py",
   "mimetype": "text/x-python",
   "name": "python",
   "nbconvert_exporter": "python",
   "pygments_lexer": "ipython3",
   "version": "3.8.17"
  },
  "orig_nbformat": 4
 },
 "nbformat": 4,
 "nbformat_minor": 2
}
