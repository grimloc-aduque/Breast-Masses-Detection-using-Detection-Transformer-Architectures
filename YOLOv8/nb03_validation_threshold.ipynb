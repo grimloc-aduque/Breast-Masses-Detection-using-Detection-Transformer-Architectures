{
 "cells": [
  {
   "cell_type": "code",
   "execution_count": 1,
   "metadata": {},
   "outputs": [],
   "source": [
    "from ultralytics import YOLO\n",
    "from yolo_config import Config\n",
    "import os\n",
    "import pandas as pd\n",
    "\n",
    "metrics_columns = ['metrics/precision(B)', 'metrics/recall(B)', 'metrics/mAP50(B)', \n",
    "                   'metrics/mAP50-95(B)', 'fitness']"
   ]
  },
  {
   "cell_type": "code",
   "execution_count": 2,
   "metadata": {},
   "outputs": [],
   "source": [
    "# Config.set_local_settings()\n",
    "Config.set_gpu_settings()\n",
    "\n",
    "for model_size in Config.MODEL_SIZES:\n",
    "    model_dir = os.path.join(Config.RUNS_DIR, Config.DATASET, model_size)\n",
    "    model_metrics = pd.DataFrame(columns=metrics_columns)\n",
    "    model_metrics.index.name = 'threshold'\n",
    "    \n",
    "    threshold_metrics_by_fold = {\n",
    "        t:pd.DataFrame(columns=metrics_columns) for t in Config.THRESHOLDS\n",
    "    }\n",
    "    \n",
    "    for threshold in Config.THRESHOLDS:\n",
    "        threshold_results = pd.DataFrame(columns=metrics_columns)\n",
    "        threshold_results.index.name = 'fold'\n",
    "        \n",
    "        for fold in Config.FOLDS:\n",
    "\n",
    "            # Weights From Training\n",
    "\n",
    "            fold_name = f'fold_{fold}'\n",
    "            threshold_name = f'conf={threshold}'\n",
    "            \n",
    "            best_weights_path = os.path.join(model_dir, fold_name, 'train', 'weights','best.pt')\n",
    "            model = YOLO(best_weights_path)\n",
    "\n",
    "            # Validate for every threshold\n",
    "\n",
    "            yaml_path = os.path.join(Config.DATASET, fold_name, 'data.yaml')\n",
    "            validation_project = os.path.join(model_dir, fold_name, threshold_name)\n",
    "            metrics = model.val(\n",
    "                data = yaml_path, \n",
    "                split = 'val', \n",
    "                conf = threshold, \n",
    "                project = validation_project,\n",
    "            )\n",
    "            \n",
    "            threshold_results.loc[fold] = pd.Series(metrics.results_dict)\n",
    "\n",
    "        model_metrics.loc[threshold] = threshold_results.mean()\n",
    "        \n",
    "    model_metrics_path = os.path.join(model_dir, Config.METRICS_FILE)\n",
    "    model_metrics.to_csv(model_metrics_path)\n"
   ]
  },
  {
   "cell_type": "code",
   "execution_count": null,
   "metadata": {},
   "outputs": [],
   "source": []
  }
 ],
 "metadata": {
  "kernelspec": {
   "display_name": "yolo-env",
   "language": "python",
   "name": "python3"
  },
  "language_info": {
   "codemirror_mode": {
    "name": "ipython",
    "version": 3
   },
   "file_extension": ".py",
   "mimetype": "text/x-python",
   "name": "python",
   "nbconvert_exporter": "python",
   "pygments_lexer": "ipython3",
   "version": "3.8.18"
  },
  "orig_nbformat": 4
 },
 "nbformat": 4,
 "nbformat_minor": 2
}
