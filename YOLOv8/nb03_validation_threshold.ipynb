{
 "cells": [
  {
   "cell_type": "code",
   "execution_count": 1,
   "metadata": {},
   "outputs": [],
   "source": [
    "from ultralytics import YOLO\n",
    "from yolo_config import Config\n",
    "import os\n",
    "import pandas as pd\n",
    "\n",
    "metrics_columns = ['metrics/precision(B)', 'metrics/recall(B)', 'metrics/mAP50(B)', \n",
    "                   'metrics/mAP50-95(B)', 'fitness']"
   ]
  },
  {
   "cell_type": "code",
   "execution_count": 2,
   "metadata": {},
   "outputs": [
    {
     "name": "stderr",
     "output_type": "stream",
     "text": [
      "                 Class     Images  Instances      Box(P          R      mAP50  mAP50-95): 100%|██████████| 1/1 [00:11<00:00, 11.70s/it]\n",
      "                   all         10         11      0.667      0.182      0.394      0.273\n",
      "Speed: 3.4ms preprocess, 1151.7ms inference, 0.0ms loss, 0.0ms postprocess per image\n",
      "Results saved to \u001b[1mruns_usfq_server_06_fixed_bbox\\InBreast_Yolov8\\yolov8m.pt\\fold_1\\conf=0.8\\val\u001b[0m\n",
      "Ultralytics YOLOv8.0.164  Python-3.8.18 torch-2.0.1+cpu CPU (11th Gen Intel Core(TM) i7-1165G7 2.80GHz)\n",
      "Model summary (fused): 218 layers, 25840339 parameters, 0 gradients\n",
      "\u001b[34m\u001b[1mval: \u001b[0mScanning C:\\Users\\Alejandro Duque\\Documents\\USFQ\\Proyecto Integrador\\Workspace\\YOLOv8\\InBreast_Yolov8\\fold_2\\valid\\labels.cache... 10 images, 0 backgrounds, 0 corrupt: 100%|██████████| 10/10 [00:00<?, ?it/s]\n",
      "                 Class     Images  Instances      Box(P          R      mAP50  mAP50-95):   0%|          | 0/1 [00:00<?, ?it/s]"
     ]
    }
   ],
   "source": [
    "# Config.set_local_settings()\n",
    "Config.set_gpu_settings()\n",
    "\n",
    "for model_size in Config.MODEL_SIZES:\n",
    "    model_dir = os.path.join(Config.RUNS_DIR, Config.DATASET, model_size)\n",
    "    model_metrics = pd.DataFrame(columns=metrics_columns)\n",
    "    model_metrics.index.name = 'threshold'\n",
    "    \n",
    "    threshold_metrics_by_fold = {\n",
    "        t:pd.DataFrame(columns=metrics_columns) for t in Config.THRESHOLDS\n",
    "    }\n",
    "    \n",
    "    for threshold in Config.THRESHOLDS:\n",
    "        threshold_results = pd.DataFrame(columns=metrics_columns)\n",
    "        threshold_results.index.name = 'fold'\n",
    "        \n",
    "        for fold in Config.FOLDS:\n",
    "\n",
    "            # Weights From Training\n",
    "\n",
    "            fold_name = f'fold_{fold}'\n",
    "            threshold_name = f'conf={threshold}'\n",
    "            \n",
    "            best_weights_path = os.path.join(model_dir, fold_name, 'train', 'weights','best.pt')\n",
    "            model = YOLO(best_weights_path)\n",
    "\n",
    "            # Validate for every threshold\n",
    "\n",
    "            yaml_path = os.path.join(Config.DATASET, fold_name, 'data.yaml')\n",
    "            validation_project = os.path.join(model_dir, fold_name, threshold_name)\n",
    "            metrics = model.val(\n",
    "                data = yaml_path, \n",
    "                split = 'val', \n",
    "                conf = threshold, \n",
    "                project = validation_project,\n",
    "            )\n",
    "            \n",
    "            threshold_results.loc[fold] = pd.Series(metrics.results_dict)\n",
    "\n",
    "        model_metrics.loc[threshold] = threshold_results.mean()\n",
    "        \n",
    "    model_metrics_path = os.path.join(model_dir, Config.METRICS_FILE)\n",
    "    model_metrics.to_csv(model_metrics_path)\n"
   ]
  },
  {
   "cell_type": "code",
   "execution_count": null,
   "metadata": {},
   "outputs": [],
   "source": []
  }
 ],
 "metadata": {
  "kernelspec": {
   "display_name": "yolo-env",
   "language": "python",
   "name": "python3"
  },
  "language_info": {
   "codemirror_mode": {
    "name": "ipython",
    "version": 3
   },
   "file_extension": ".py",
   "mimetype": "text/x-python",
   "name": "python",
   "nbconvert_exporter": "python",
   "pygments_lexer": "ipython3",
   "version": "3.8.18"
  },
  "orig_nbformat": 4
 },
 "nbformat": 4,
 "nbformat_minor": 2
}
