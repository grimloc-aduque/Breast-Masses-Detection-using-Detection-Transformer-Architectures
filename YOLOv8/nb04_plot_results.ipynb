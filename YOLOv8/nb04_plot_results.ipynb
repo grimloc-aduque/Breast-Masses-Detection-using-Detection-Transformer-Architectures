{
 "cells": [
  {
   "cell_type": "code",
   "execution_count": 1,
   "metadata": {},
   "outputs": [],
   "source": [
    "import os\n",
    "\n",
    "import pandas as pd\n",
    "from yolo_config import Config\n",
    "from yolo_detect import plot_detection_comparison, show_image"
   ]
  },
  {
   "cell_type": "code",
   "execution_count": 3,
   "metadata": {},
   "outputs": [
    {
     "data": {
      "text/plain": [
       "metrics/precision(B)    0.0\n",
       "metrics/recall(B)       0.0\n",
       "metrics/mAP50(B)        0.0\n",
       "metrics/mAP50-95(B)     0.0\n",
       "fitness                 0.0\n",
       "CM(0,0)                 0.0\n",
       "CM(0,1)                 0.0\n",
       "CM(0,2)                 0.0\n",
       "CM(1,0)                 0.0\n",
       "CM(1,1)                 0.0\n",
       "CM(1,2)                 0.0\n",
       "CM(2,0)                 0.8\n",
       "CM(2,1)                 0.6\n",
       "CM(2,2)                 0.0\n",
       "Name: yolov8n.pt_conf=0.1, dtype: float64"
      ]
     },
     "execution_count": 3,
     "metadata": {},
     "output_type": "execute_result"
    }
   ],
   "source": [
    "all_results_path = os.path.join(Config.RUNS_DIR, Config.DATASET, 'all_results.csv')\n",
    "all_results = pd.read_csv(all_results_path, index_col=0)\n",
    "all_results.loc[all_results['metrics/mAP50(B)'].idxmax()]\n"
   ]
  },
  {
   "cell_type": "code",
   "execution_count": null,
   "metadata": {},
   "outputs": [],
   "source": [
    "model_size = 'yolov8n.pt'\n",
    "threshold = 0.1\n",
    "\n",
    "for fold in range(1,11):\n",
    "    model_dir = f'{model_size}_conf={threshold}'\n",
    "    fold_dir = f'fold_{fold}'\n",
    "    validation_path = os.path.join(Config.RUNS_DIR, Config.DATASET, model_dir, fold_dir, 'val')\n",
    "    print(f\"Fold {fold}\")\n",
    "    plot_detection_comparison(validation_path)\n"
   ]
  },
  {
   "cell_type": "code",
   "execution_count": null,
   "metadata": {},
   "outputs": [],
   "source": []
  }
 ],
 "metadata": {
  "kernelspec": {
   "display_name": "yolo-env",
   "language": "python",
   "name": "python3"
  },
  "language_info": {
   "codemirror_mode": {
    "name": "ipython",
    "version": 3
   },
   "file_extension": ".py",
   "mimetype": "text/x-python",
   "name": "python",
   "nbconvert_exporter": "python",
   "pygments_lexer": "ipython3",
   "version": "3.8.18"
  },
  "orig_nbformat": 4
 },
 "nbformat": 4,
 "nbformat_minor": 2
}
