{
 "cells": [
  {
   "cell_type": "code",
   "execution_count": 1,
   "metadata": {},
   "outputs": [],
   "source": [
    "import cv2\n",
    "import matplotlib.pyplot as plt\n",
    "from yolo_config import Config\n",
    "import os\n",
    "import pandas as pd"
   ]
  },
  {
   "cell_type": "code",
   "execution_count": 2,
   "metadata": {},
   "outputs": [],
   "source": [
    "def show_image(training_dir, file_name):\n",
    "    try:\n",
    "        img = cv2.imread(f'{training_dir}/{file_name}')\n",
    "        img = cv2.cvtColor(img, cv2.COLOR_BGR2RGB)\n",
    "        plt.figure(figsize=(5,5), dpi=120)\n",
    "        plt.imshow(img)\n",
    "        plt.axis('off')\n",
    "        plt.tight_layout()\n",
    "        plt.show()\n",
    "    except Exception as e:\n",
    "        print(\"Image not available\")\n",
    "        print(e)\n",
    "        pass\n",
    "\n",
    "\n",
    "def plot_detection_comparison(training_dir):\n",
    "    plt.figure(figsize=(5,10), dpi=200)\n",
    "\n",
    "    plt.subplot(1, 2, 1)\n",
    "    img = cv2.imread(f'{training_dir}/val_batch0_labels.jpg')\n",
    "    img = cv2.cvtColor(img, cv2.COLOR_BGR2RGB)\n",
    "    plt.title(\"Labels\", fontsize=5)\n",
    "    plt.axis('off')\n",
    "    plt.imshow(img)\n",
    "\n",
    "    plt.subplot(1, 2, 2)\n",
    "    img = cv2.imread(f'{training_dir}/val_batch0_pred.jpg')\n",
    "    img = cv2.cvtColor(img, cv2.COLOR_BGR2RGB)\n",
    "    plt.title(\"Detections\", fontsize=5)\n",
    "    plt.axis('off')\n",
    "    plt.imshow(img)\n",
    "\n",
    "    plt.show()\n"
   ]
  },
  {
   "cell_type": "code",
   "execution_count": 3,
   "metadata": {},
   "outputs": [
    {
     "data": {
      "text/plain": [
       "metrics/precision(B)    0.0\n",
       "metrics/recall(B)       0.0\n",
       "metrics/mAP50(B)        0.0\n",
       "metrics/mAP50-95(B)     0.0\n",
       "fitness                 0.0\n",
       "CM(0,0)                 0.0\n",
       "CM(0,1)                 0.0\n",
       "CM(0,2)                 0.0\n",
       "CM(1,0)                 0.0\n",
       "CM(1,1)                 0.0\n",
       "CM(1,2)                 0.0\n",
       "CM(2,0)                 0.8\n",
       "CM(2,1)                 0.6\n",
       "CM(2,2)                 0.0\n",
       "Name: yolov8n.pt_conf=0.1, dtype: float64"
      ]
     },
     "execution_count": 3,
     "metadata": {},
     "output_type": "execute_result"
    }
   ],
   "source": [
    "all_results_path = os.path.join(Config.RUNS_DIR, Config.DATASET, 'all_results.csv')\n",
    "all_results = pd.read_csv(all_results_path, index_col=0)\n",
    "all_results.loc[all_results['metrics/mAP50(B)'].idxmax()]\n"
   ]
  },
  {
   "cell_type": "code",
   "execution_count": null,
   "metadata": {},
   "outputs": [],
   "source": [
    "model_size = 'yolov8n.pt'\n",
    "threshold = 0.1\n",
    "\n",
    "for fold in range(1,11):\n",
    "    model_dir = f'{model_size}_conf={threshold}'\n",
    "    fold_dir = f'fold_{fold}'\n",
    "    validation_path = os.path.join(Config.RUNS_DIR, Config.DATASET, model_dir, fold_dir, 'val')\n",
    "    print(f\"Fold {fold}\")\n",
    "    plot_detection_comparison(validation_path)\n"
   ]
  },
  {
   "cell_type": "code",
   "execution_count": null,
   "metadata": {},
   "outputs": [],
   "source": []
  }
 ],
 "metadata": {
  "kernelspec": {
   "display_name": "yolo-env",
   "language": "python",
   "name": "python3"
  },
  "language_info": {
   "codemirror_mode": {
    "name": "ipython",
    "version": 3
   },
   "file_extension": ".py",
   "mimetype": "text/x-python",
   "name": "python",
   "nbconvert_exporter": "python",
   "pygments_lexer": "ipython3",
   "version": "3.8.17"
  },
  "orig_nbformat": 4
 },
 "nbformat": 4,
 "nbformat_minor": 2
}
