{
 "cells": [
  {
   "cell_type": "code",
   "execution_count": 1,
   "metadata": {},
   "outputs": [],
   "source": [
    "from yolo_config import Config\n",
    "from yolo_file_manager import FileManager\n",
    "from yolo_model import YoloModel\n",
    "from yolo_metrics import MetricsAggregator"
   ]
  },
  {
   "cell_type": "code",
   "execution_count": null,
   "metadata": {},
   "outputs": [],
   "source": [
    "Config.set_local_settings()\n",
    "# Config.set_gpu_settings()\n",
    "\n",
    "# -----------------------\n",
    "# K-fold Cross Validation\n",
    "# -----------------------\n",
    "\n",
    "for model_size in Config.MODEL_SIZES:\n",
    "    \n",
    "    file_manager = FileManager(model_size)\n",
    "    yolo_model = YoloModel(file_manager)\n",
    "    metrics_aggregator = MetricsAggregator(file_manager)\n",
    "    \n",
    "    file_manager.clean_model_runs()\n",
    "    \n",
    "    for fold in Config.FOLDS:\n",
    "\n",
    "        # Dataset\n",
    "\n",
    "        file_manager.set_validation_setup(fold)\n",
    "\n",
    "        # Train\n",
    "\n",
    "        yolo_model.train()\n",
    "    \n",
    "        # Validation - Threshold Optimization\n",
    "        \n",
    "        for threshold in Config.THRESHOLDS:\n",
    "            valid_metrics = yolo_model.validate(threshold)\n",
    "            metrics_aggregator.add_metrics(threshold, valid_metrics)\n",
    "\n",
    "        file_manager.clean_weights()\n",
    "    \n",
    "    # Aggregate Metrics\n",
    "    \n",
    "    metrics_aggregator.finish_validation()\n",
    "    metrics_aggregator.save_metrics()\n",
    "    \n",
    "    \n",
    "    # -----------------------\n",
    "    # Testing\n",
    "    # -----------------------\n",
    "    \n",
    "    file_manager.set_testing_setup()\n",
    "    yolo_model.train()\n"
   ]
  },
  {
   "cell_type": "code",
   "execution_count": null,
   "metadata": {},
   "outputs": [],
   "source": []
  }
 ],
 "metadata": {
  "kernelspec": {
   "display_name": "yolo-env",
   "language": "python",
   "name": "python3"
  },
  "language_info": {
   "codemirror_mode": {
    "name": "ipython",
    "version": 3
   },
   "file_extension": ".py",
   "mimetype": "text/x-python",
   "name": "python",
   "nbconvert_exporter": "python",
   "pygments_lexer": "ipython3",
   "version": "3.8.18"
  },
  "orig_nbformat": 4
 },
 "nbformat": 4,
 "nbformat_minor": 2
}
