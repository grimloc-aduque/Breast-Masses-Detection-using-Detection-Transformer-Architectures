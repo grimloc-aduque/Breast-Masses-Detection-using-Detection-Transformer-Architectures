{
 "cells": [
  {
   "cell_type": "code",
   "execution_count": 1,
   "metadata": {},
   "outputs": [],
   "source": [
    "import dicom2jpg\n",
    "from roboflow import Roboflow\n",
    "from PIL import Image\n",
    "import os\n",
    "import numpy as np"
   ]
  },
  {
   "cell_type": "code",
   "execution_count": 2,
   "metadata": {},
   "outputs": [],
   "source": [
    "dicom_dir  = './CBIS-DDSM-DCIM/'\n",
    "jpg_dir = './CBIS-DDSM'\n",
    "# dicom2jpg.dicom2jpg(origin=dicom_dir, target_root=jpg_dir)\n"
   ]
  },
  {
   "cell_type": "code",
   "execution_count": 9,
   "metadata": {},
   "outputs": [
    {
     "name": "stdout",
     "output_type": "stream",
     "text": [
      "loading Roboflow workspace...\n",
      "loading Roboflow project...\n"
     ]
    }
   ],
   "source": [
    "rf = Roboflow(api_key=\"zI76XKK5KD7JQZmOs6ba\")\n",
    "# print(rf.workspace())\n",
    "workspace_name = \"universidad-san-francisco-de-quito\"\n",
    "project_name = \"cbis-ddsm-aca38\"\n",
    "project = rf.workspace(workspace_name).project(project_name)"
   ]
  },
  {
   "cell_type": "code",
   "execution_count": null,
   "metadata": {},
   "outputs": [],
   "source": [
    "image_path = os.path.join(jpg_dir, '20587928_jpg.rf.1bb49cdecb59979fbc76abff2a5e733d.jpg')\n",
    "annotations_path = os.path.join(jpg_dir, '_annotations.coco.json')\n",
    "image = Image.open(image_path)\n",
    "# image"
   ]
  },
  {
   "cell_type": "code",
   "execution_count": 16,
   "metadata": {},
   "outputs": [],
   "source": [
    "project.upload(\n",
    "    image_path=image_path,\n",
    "    annotation_path=annotations_path\n",
    ")"
   ]
  },
  {
   "cell_type": "code",
   "execution_count": null,
   "metadata": {},
   "outputs": [],
   "source": []
  }
 ],
 "metadata": {
  "kernelspec": {
   "display_name": "base",
   "language": "python",
   "name": "python3"
  },
  "language_info": {
   "codemirror_mode": {
    "name": "ipython",
    "version": 3
   },
   "file_extension": ".py",
   "mimetype": "text/x-python",
   "name": "python",
   "nbconvert_exporter": "python",
   "pygments_lexer": "ipython3",
   "version": "3.11.5"
  },
  "orig_nbformat": 4
 },
 "nbformat": 4,
 "nbformat_minor": 2
}
