{
 "cells": [
  {
   "cell_type": "code",
   "execution_count": 1,
   "metadata": {},
   "outputs": [],
   "source": [
    "import os\n",
    "import numpy as np\n",
    "from PIL import Image, ImageDraw\n",
    "import albumentations as A\n",
    "import json\n",
    "import shutil"
   ]
  },
  {
   "cell_type": "code",
   "execution_count": 2,
   "metadata": {},
   "outputs": [],
   "source": [
    "# Image\n",
    "\n",
    "def get_bbox(mask, plot=False):\n",
    "\n",
    "    transform = A.Resize(800, 800)\n",
    "\n",
    "    mask = np.array(mask)\n",
    "\n",
    "    # BBOX\n",
    "\n",
    "    y_shape, x_shape = mask.shape\n",
    "\n",
    "    rows, cols = np.where(mask != 0)\n",
    "    y_min, y_max = rows.min()/y_shape, rows.max()/y_shape\n",
    "    x_min, x_max = cols.min()/x_shape, cols.max()/x_shape\n",
    "\n",
    "    h = y_max - y_min\n",
    "    w = x_max - x_min\n",
    "    bbox = (x_min, y_min, w, h)\n",
    "    \n",
    "    transformed_data = transform(image=mask, bboxes=[bbox])\n",
    "    bbox = transformed_data['bboxes'][0]\n",
    "    bbox = np.array(bbox) * 800\n",
    "    bbox = np.round(bbox, 2)\n",
    "    x_min, y_min, w, h = bbox\n",
    "    area = np.round(w * h, 2)\n",
    "    print(bbox)\n",
    "    \n",
    "    return bbox, area"
   ]
  },
  {
   "cell_type": "code",
   "execution_count": 3,
   "metadata": {},
   "outputs": [],
   "source": [
    "root = os.path.join('CBIS-DDSM', 'CBIS-JPG', 'TRAIN')\n",
    "root_crops = os.path.join(root, 'CROPS')\n",
    "root_masks = os.path.join(root, 'MASKS')\n",
    "root_images = os.path.join(root, 'IMAGES')\n",
    "\n",
    "root_resized_images = os.path.join('CBIS-COCO', \"test\")"
   ]
  },
  {
   "cell_type": "code",
   "execution_count": 4,
   "metadata": {},
   "outputs": [
    {
     "name": "stdout",
     "output_type": "stream",
     "text": [
      "[645.95 396.33 129.97  67.34]\n",
      "[452.93 322.08 120.6   48.71]\n",
      "[560.16 240.78 220.71 170.74]\n"
     ]
    }
   ],
   "source": [
    "annotations = {\n",
    "    'categories': [\n",
    "        {\n",
    "            'id': 0,\n",
    "            'name': 'Mass',\n",
    "            'supercategory': 'none'\n",
    "        }\n",
    "    ],\n",
    "    'images': [],\n",
    "    'annotations': []\n",
    "}\n",
    "\n",
    "if os.path.exists(root_resized_images):\n",
    "    shutil.rmtree(root_resized_images)\n",
    "os.mkdir(root_resized_images)\n",
    "\n",
    "# IMAGES\n",
    "\n",
    "images = os.listdir(root_images)\n",
    "image_cache = {}\n",
    "\n",
    "for image_id, image_name in enumerate(images):\n",
    "    # Original Image\n",
    "    image = Image.open(os.path.join(root_images, image_name))\n",
    "    image = np.array(image)\n",
    "    \n",
    "    # Transformed Image\n",
    "    transform = A.Resize(800, 800)\n",
    "    transformed_data = transform(image=image)\n",
    "    resized_image = transformed_data['image']\n",
    "    resized_image = Image.fromarray(resized_image)\n",
    "    resized_image.save(os.path.join(root_resized_images, image_name))\n",
    "    \n",
    "    # Image Annotations\n",
    "    image_annotation = {\n",
    "        \"id\": image_id,\n",
    "        \"file_name\": image_name,\n",
    "        \"height\": 800,\n",
    "        \"width\": 800,\n",
    "    }\n",
    "    annotations['images'].append(image_annotation)\n",
    "    image_cache[image_name] = image_annotation\n",
    "    \n",
    "\n",
    "# BBOXES\n",
    "\n",
    "crops = os.listdir(root_crops)\n",
    "\n",
    "for crop_id, crop_name in enumerate(crops):    \n",
    "    # Retrieve Image Annotation\n",
    "    image_name = crop_name.split('_')\n",
    "    image_name = '_'.join(image_name[:-1]) + '.jpg'\n",
    "    image_annotation = image_cache[image_name]\n",
    "    \n",
    "    # Extract BBOX with resize\n",
    "    mask = Image.open(os.path.join(root_masks, crop_name))\n",
    "    bbox, area = get_bbox(mask, plot=False)\n",
    "    \n",
    "    # Crop Annotations\n",
    "    crop_annotation = {\n",
    "        \"id\": crop_id,\n",
    "        \"image_id\": image_annotation['id'],\n",
    "        \"category_id\": 0,\n",
    "        \"bbox\": list(bbox),\n",
    "        \"area\": area,\n",
    "    }\n",
    "    annotations['annotations'].append(crop_annotation)\n",
    "    \n",
    "# Save Annotations\n",
    "with open(os.path.join(root_resized_images, '_annotations.coco.json'), 'w') as f:\n",
    "    json.dump(annotations, f, indent=4)"
   ]
  },
  {
   "cell_type": "code",
   "execution_count": 5,
   "metadata": {},
   "outputs": [
    {
     "name": "stderr",
     "output_type": "stream",
     "text": [
      "The `max_size` parameter is deprecated and will be removed in v4.26. Please specify in `size['longest_edge'] instead`.\n"
     ]
    }
   ],
   "source": [
    "import sys\n",
    "sys.path.insert(0,'../DETR/')\n",
    "from detr_config import Config\n",
    "Config.set_local_settings()\n",
    "Config.DATASET = 'CBIS-COCO'\n",
    "\n",
    "from detr_factory import DETRFactory\n",
    "from detr_file_manager import FileManager\n",
    "from detr_data_source import DataSource\n",
    "from detr_detection import plot_annotations\n",
    "\n",
    "hyperparameters = ('D-DETR', 100, 6)\n",
    "detr_factory = DETRFactory(*hyperparameters)\n",
    "file_manager = FileManager(detr_factory)\n",
    "data_source = DataSource(detr_factory, file_manager)"
   ]
  },
  {
   "cell_type": "code",
   "execution_count": 6,
   "metadata": {},
   "outputs": [
    {
     "name": "stdout",
     "output_type": "stream",
     "text": [
      "Loading Annotations from:  CBIS-COCO\\test\\_annotations.coco.json\n",
      "loading annotations into memory...\n",
      "Done (t=0.01s)\n",
      "creating index...\n",
      "index created!\n"
     ]
    },
    {
     "data": {
      "text/plain": [
       "Dataset InBreastDataset\n",
       "    Number of datapoints: 3\n",
       "    Root location: CBIS-COCO\\test"
      ]
     },
     "execution_count": 6,
     "metadata": {},
     "output_type": "execute_result"
    }
   ],
   "source": [
    "dataset = data_source.get_test_dataset()\n",
    "dataset"
   ]
  },
  {
   "cell_type": "code",
   "execution_count": 7,
   "metadata": {},
   "outputs": [
    {
     "name": "stdout",
     "output_type": "stream",
     "text": [
      "[{'id': 2, 'image_id': 2, 'category_id': 0, 'bbox': [560.16, 240.78, 220.71, 170.74], 'area': 37684.03}]\n",
      "{'size': tensor([800, 800]), 'image_id': tensor([2]), 'class_labels': tensor([0]), 'boxes': tensor([[0.8381, 0.4077, 0.2759, 0.2134]]), 'area': tensor([37684.0312]), 'iscrowd': tensor([0]), 'orig_size': tensor([800, 800])}\n"
     ]
    },
    {
     "data": {
      "image/png": "[encoded data removed]",
      "text/plain": [
       "<Figure size 300x300 with 1 Axes>"
      ]
     },
     "metadata": {},
     "output_type": "display_data"
    }
   ],
   "source": [
    "image, annotations = dataset.__getitem__(2)\n",
    "plot_annotations(image, annotations, {0:'Mass'})"
   ]
  },
  {
   "cell_type": "code",
   "execution_count": null,
   "metadata": {},
   "outputs": [],
   "source": []
  }
 ],
 "metadata": {
  "kernelspec": {
   "display_name": "test-env",
   "language": "python",
   "name": "python3"
  },
  "language_info": {
   "codemirror_mode": {
    "name": "ipython",
    "version": 3
   },
   "file_extension": ".py",
   "mimetype": "text/x-python",
   "name": "python",
   "nbconvert_exporter": "python",
   "pygments_lexer": "ipython3",
   "version": "3.11.4"
  }
 },
 "nbformat": 4,
 "nbformat_minor": 2
}
