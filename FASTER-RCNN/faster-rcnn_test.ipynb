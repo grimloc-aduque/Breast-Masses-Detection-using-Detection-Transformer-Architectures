{
 "cells": [
  {
   "cell_type": "code",
   "execution_count": 1,
   "metadata": {},
   "outputs": [],
   "source": [
    "from faster_config import Config\n",
    "from faster_data_source import DataSource\n",
    "from faster_file_manager import FileManager\n",
    "from faster_metrics import MetricsAggregator\n",
    "from faster_model_evaluator import ModelEvaluator\n",
    "from faster_trainer import ModelTrainer\n",
    "from faster_plotter import Plotter\n",
    "from faster_model_loader import ModelLoader"
   ]
  },
  {
   "cell_type": "code",
   "execution_count": 2,
   "metadata": {},
   "outputs": [
    {
     "name": "stdout",
     "output_type": "stream",
     "text": [
      "\u001b[32m Loading Annotations:  InBreast-COCO\\train\\_annotations.coco.json \u001b[37m\n",
      "loading annotations into memory...\n",
      "Done (t=0.00s)\n",
      "creating index...\n",
      "index created!\n"
     ]
    }
   ],
   "source": [
    "Config.set_local_settings()\n",
    "file_manager = FileManager()\n",
    "data_source = DataSource(file_manager)\n",
    "model_loader = ModelLoader(file_manager)\n",
    "model_trainer = ModelTrainer(file_manager)\n",
    "metrics_aggregator = MetricsAggregator(file_manager)\n",
    "plotter = Plotter(file_manager, metrics_aggregator)"
   ]
  },
  {
   "cell_type": "code",
   "execution_count": 3,
   "metadata": {},
   "outputs": [
    {
     "name": "stdout",
     "output_type": "stream",
     "text": [
      "\u001b[94m New Model:  Faster-RCNN \u001b[37m\n",
      "\u001b[32m Loading Annotations:  InBreast-COCO\\test\\_annotations.coco.json \u001b[37m\n",
      "loading annotations into memory...\n",
      "Done (t=0.00s)\n",
      "creating index...\n",
      "index created!\n"
     ]
    }
   ],
   "source": [
    "model = model_loader.new_pretrained_model()\n",
    "\n",
    "data_source.start_kfold()\n",
    "datasets, dataloaders = data_source.testing()\n",
    "train_dataset, valid_dataset = datasets\n",
    "train_loader, valid_loader = dataloaders\n"
   ]
  },
  {
   "cell_type": "code",
   "execution_count": 4,
   "metadata": {},
   "outputs": [
    {
     "data": {
      "text/plain": [
       "(tensor([[[0.0000, 0.0000, 0.0000,  ..., 0.0000, 0.0039, 0.0118],\n",
       "          [0.0000, 0.0000, 0.0000,  ..., 0.4471, 0.4235, 0.4078],\n",
       "          [0.0000, 0.0000, 0.0000,  ..., 0.5686, 0.5412, 0.5176],\n",
       "          ...,\n",
       "          [0.0000, 0.0000, 0.0000,  ..., 0.8353, 0.8235, 0.8157],\n",
       "          [0.0000, 0.0000, 0.0000,  ..., 0.7059, 0.7020, 0.7020],\n",
       "          [0.0000, 0.0000, 0.0000,  ..., 0.0000, 0.0039, 0.0078]],\n",
       " \n",
       "         [[0.0000, 0.0000, 0.0000,  ..., 0.0000, 0.0039, 0.0118],\n",
       "          [0.0000, 0.0000, 0.0000,  ..., 0.4471, 0.4235, 0.4078],\n",
       "          [0.0000, 0.0000, 0.0000,  ..., 0.5686, 0.5412, 0.5176],\n",
       "          ...,\n",
       "          [0.0000, 0.0000, 0.0000,  ..., 0.8353, 0.8235, 0.8157],\n",
       "          [0.0000, 0.0000, 0.0000,  ..., 0.7059, 0.7020, 0.7020],\n",
       "          [0.0000, 0.0000, 0.0000,  ..., 0.0000, 0.0039, 0.0078]],\n",
       " \n",
       "         [[0.0000, 0.0000, 0.0000,  ..., 0.0000, 0.0039, 0.0118],\n",
       "          [0.0000, 0.0000, 0.0000,  ..., 0.4471, 0.4235, 0.4078],\n",
       "          [0.0000, 0.0000, 0.0000,  ..., 0.5686, 0.5412, 0.5176],\n",
       "          ...,\n",
       "          [0.0000, 0.0000, 0.0000,  ..., 0.8353, 0.8235, 0.8157],\n",
       "          [0.0000, 0.0000, 0.0000,  ..., 0.7059, 0.7020, 0.7020],\n",
       "          [0.0000, 0.0000, 0.0000,  ..., 0.0000, 0.0039, 0.0078]]]),\n",
       " {'boxes': tensor([[0.0001, 0.0001, 0.0003, 0.0003]]),\n",
       "  'labels': tensor([1.]),\n",
       "  'area': tensor([0.0100]),\n",
       "  'iscrowd': tensor([0.]),\n",
       "  'image_id': tensor([0.])})"
      ]
     },
     "execution_count": 4,
     "metadata": {},
     "output_type": "execute_result"
    }
   ],
   "source": [
    "train_dataset.__getitem__(0)"
   ]
  },
  {
   "cell_type": "code",
   "execution_count": 5,
   "metadata": {},
   "outputs": [],
   "source": [
    "batch_train = next(iter(train_loader))\n",
    "batch_valid = next(iter(valid_loader))"
   ]
  },
  {
   "cell_type": "code",
   "execution_count": 4,
   "metadata": {},
   "outputs": [
    {
     "name": "stdout",
     "output_type": "stream",
     "text": [
      "\u001b[94m Loading Model:  lightning_logs\\InBreast-COCO\\Faster-RCNN\\test\\checkpoints\\epoch=0-step=1.ckpt \u001b[37m\n",
      "\u001b[35m Evaluating on threshold:  0.001 \u001b[37m\n"
     ]
    },
    {
     "data": {
      "text/plain": [
       "{'Average Precision  (AP) @[ IoU=0.50:0.95 | area=   all | maxDets=100 ]': 0.0,\n",
       " 'Average Precision  (AP) @[ IoU=0.50      | area=   all | maxDets=100 ]': 0.0,\n",
       " 'Average Precision  (AP) @[ IoU=0.75      | area=   all | maxDets=100 ]': 0.0,\n",
       " 'Average Precision  (AP) @[ IoU=0.50:0.95 | area= small | maxDets=100 ]': 0.0,\n",
       " 'Average Precision  (AP) @[ IoU=0.50:0.95 | area=medium | maxDets=100 ]': 0.0,\n",
       " 'Average Precision  (AP) @[ IoU=0.50:0.95 | area= large | maxDets=100 ]': 0.0,\n",
       " 'Average Recall     (AR) @[ IoU=0.50:0.95 | area=   all | maxDets=  1 ]': 0.0,\n",
       " 'Average Recall     (AR) @[ IoU=0.50:0.95 | area=   all | maxDets= 10 ]': 0.0,\n",
       " 'Average Recall     (AR) @[ IoU=0.50:0.95 | area=   all | maxDets=100 ]': 0.0,\n",
       " 'Average Recall     (AR) @[ IoU=0.50:0.95 | area= small | maxDets=100 ]': 0.0,\n",
       " 'Average Recall     (AR) @[ IoU=0.50:0.95 | area=medium | maxDets=100 ]': 0.0,\n",
       " 'Average Recall     (AR) @[ IoU=0.50:0.95 | area= large | maxDets=100 ]': 0.0}"
      ]
     },
     "execution_count": 4,
     "metadata": {},
     "output_type": "execute_result"
    }
   ],
   "source": [
    "# Validation - Threshold Optimization\n",
    "\n",
    "best_model = model_loader.load_best_model()\n",
    "model_evaluator = ModelEvaluator(best_model, plotter)\n",
    "\n",
    "threshold = 0.001\n",
    "valid_metrics = model_evaluator.evaluate(valid_dataset, valid_loader, threshold, save_plots=True)\n",
    "valid_metrics"
   ]
  },
  {
   "cell_type": "code",
   "execution_count": null,
   "metadata": {},
   "outputs": [],
   "source": []
  }
 ],
 "metadata": {
  "kernelspec": {
   "display_name": "detr-env",
   "language": "python",
   "name": "python3"
  },
  "language_info": {
   "codemirror_mode": {
    "name": "ipython",
    "version": 3
   },
   "file_extension": ".py",
   "mimetype": "text/x-python",
   "name": "python",
   "nbconvert_exporter": "python",
   "pygments_lexer": "ipython3",
   "version": "3.11.4"
  }
 },
 "nbformat": 4,
 "nbformat_minor": 2
}
