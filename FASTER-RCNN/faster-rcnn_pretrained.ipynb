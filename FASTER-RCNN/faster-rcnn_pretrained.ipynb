{
 "cells": [
  {
   "cell_type": "code",
   "execution_count": 1,
   "metadata": {},
   "outputs": [],
   "source": [
    "from faster_config import Config\n",
    "from faster_data_source import DataSource\n",
    "from faster_file_manager import FileManager\n",
    "from faster_metrics import MetricsAggregator\n",
    "from faster_model_evaluator import ModelEvaluator\n",
    "from faster_model_trainer import ModelTrainer\n",
    "from faster_plotter import Plotter\n",
    "from faster_model_loader import ModelLoader"
   ]
  },
  {
   "cell_type": "code",
   "execution_count": 2,
   "metadata": {},
   "outputs": [
    {
     "name": "stdout",
     "output_type": "stream",
     "text": [
      "\u001b[32m Loading Annotations:  COCO-Test\\train\\_annotations.coco.json \u001b[37m\n",
      "loading annotations into memory...\n",
      "Done (t=0.00s)\n",
      "creating index...\n",
      "index created!\n",
      "\u001b[32m Loading Annotations:  COCO-Test\\test\\_annotations.coco.json \u001b[37m\n",
      "loading annotations into memory...\n",
      "Done (t=0.00s)\n",
      "creating index...\n",
      "index created!\n",
      "\u001b[94m Loading Model:  lightning_logs\\COCO-Test\\Faster-RCNN\\test\\checkpoints\\epoch=22-step=23.ckpt \u001b[37m\n"
     ]
    }
   ],
   "source": [
    "Config.DATASET = 'COCO-Test'\n",
    "Config.set_local_settings()\n",
    "file_manager = FileManager()\n",
    "data_source = DataSource(file_manager)\n",
    "model_loader = ModelLoader(file_manager)\n",
    "model_trainer = ModelTrainer(file_manager)\n",
    "metrics_aggregator = MetricsAggregator(file_manager)\n",
    "plotter = Plotter(file_manager, metrics_aggregator)\n",
    "\n",
    "datasets, dataloaders = data_source.testing()\n",
    "train_dataset, valid_dataset = datasets\n",
    "train_loader, valid_loader = dataloaders\n",
    "model = model_loader.load_best_model()"
   ]
  },
  {
   "cell_type": "code",
   "execution_count": 3,
   "metadata": {},
   "outputs": [
    {
     "name": "stdout",
     "output_type": "stream",
     "text": [
      "\u001b[35m Evaluating on threshold:  0.001 \u001b[37m\n",
      "COCO Annotations:  {0: {'id': 0, 'image_id': 0, 'category_id': 1, 'bbox': [59, 119, 376, 636], 'area': 239136, 'segmentation': [], 'iscrowd': 0}, 1: {'id': 1, 'image_id': 0, 'category_id': 1, 'bbox': [387, 65, 373, 705], 'area': 262965, 'segmentation': [], 'iscrowd': 0}}\n",
      "COCO Predictions:  [{'image_id': 0, 'category_id': 1, 'bbox': [61.160400390625, 105.23028564453125, 371.34375, 656.8928833007812], 'score': 0.9795077443122864}, {'image_id': 0, 'category_id': 1, 'bbox': [395.16876220703125, 54.1563720703125, 358.724365234375, 729.0184936523438], 'score': 0.9702969193458557}]\n",
      "Accumulating evaluation results...\n",
      "DONE (t=0.00s).\n"
     ]
    },
    {
     "data": {
      "text/plain": [
       "{'Average Precision  (AP) @[ IoU=0.50:0.95 | area=   all | maxDets=100 ]': 0.227,\n",
       " 'Average Precision  (AP) @[ IoU=0.50      | area=   all | maxDets=100 ]': 0.252,\n",
       " 'Average Precision  (AP) @[ IoU=0.75      | area=   all | maxDets=100 ]': 0.252,\n",
       " 'Average Precision  (AP) @[ IoU=0.50:0.95 | area= small | maxDets=100 ]': -1.0,\n",
       " 'Average Precision  (AP) @[ IoU=0.50:0.95 | area=medium | maxDets=100 ]': -1.0,\n",
       " 'Average Precision  (AP) @[ IoU=0.50:0.95 | area= large | maxDets=100 ]': 0.227,\n",
       " 'Average Recall     (AR) @[ IoU=0.50:0.95 | area=   all | maxDets=  1 ]': 0.0,\n",
       " 'Average Recall     (AR) @[ IoU=0.50:0.95 | area=   all | maxDets= 10 ]': 0.45,\n",
       " 'Average Recall     (AR) @[ IoU=0.50:0.95 | area=   all | maxDets=100 ]': 0.45,\n",
       " 'Average Recall     (AR) @[ IoU=0.50:0.95 | area= small | maxDets=100 ]': -1.0,\n",
       " 'Average Recall     (AR) @[ IoU=0.50:0.95 | area=medium | maxDets=100 ]': -1.0,\n",
       " 'Average Recall     (AR) @[ IoU=0.50:0.95 | area= large | maxDets=100 ]': 0.45}"
      ]
     },
     "execution_count": 3,
     "metadata": {},
     "output_type": "execute_result"
    }
   ],
   "source": [
    "model_evaluator = ModelEvaluator(model, plotter)\n",
    "model_evaluator.evaluate(valid_dataset, valid_loader, 0.001, save_plots=False)"
   ]
  },
  {
   "cell_type": "code",
   "execution_count": 4,
   "metadata": {},
   "outputs": [],
   "source": [
    "# 0.455,0.554"
   ]
  },
  {
   "cell_type": "code",
   "execution_count": 5,
   "metadata": {},
   "outputs": [],
   "source": [
    "# 0.227, 0.252"
   ]
  },
  {
   "cell_type": "code",
   "execution_count": null,
   "metadata": {},
   "outputs": [],
   "source": []
  }
 ],
 "metadata": {
  "kernelspec": {
   "display_name": "detr-env",
   "language": "python",
   "name": "python3"
  },
  "language_info": {
   "codemirror_mode": {
    "name": "ipython",
    "version": 3
   },
   "file_extension": ".py",
   "mimetype": "text/x-python",
   "name": "python",
   "nbconvert_exporter": "python",
   "pygments_lexer": "ipython3",
   "version": "3.11.4"
  }
 },
 "nbformat": 4,
 "nbformat_minor": 2
}
